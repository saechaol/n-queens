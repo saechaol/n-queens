{
 "cells": [
  {
   "cell_type": "markdown",
   "metadata": {
    "colab_type": "text",
    "id": "GxGA1SMjVOTm"
   },
   "source": [
    "## Project 4:  Solving N-Queens Problem using Genetic Algorithms\n",
    "\n",
    "#### CSC 180  Intelligent Systems\n",
    "\n",
    "#### Dr. Haiquan Chen, California State University, Sacramento\n"
   ]
  },
  {
   "cell_type": "code",
   "execution_count": 1,
   "metadata": {},
   "outputs": [],
   "source": [
    "# Project 4: Due 4/23\n",
    "#\n",
    "# Noah Venethongkham, 219660117\n",
    "# Ashley Thor, 219334909\n",
    "# Lucas Saechao, 218794239"
   ]
  },
  {
   "cell_type": "markdown",
   "metadata": {
    "colab_type": "text",
    "id": "HibX8kusV5PD"
   },
   "source": [
    "## Part I: Position-index-based board representation\n",
    "By Position-Based indexing, our board is represented by using absolute positions from 0-(N\\*N) - 1. For example, the board \\[0, 7, 11, 14\\] would correspond to the following board:\n",
    "\n",
    "`\n",
    "x|-|-|-\n",
    "-|-|-|x\n",
    "-|-|-|x\n",
    "-|-|x|-\n",
    "`"
   ]
  },
  {
   "cell_type": "code",
   "execution_count": 2,
   "metadata": {
    "colab": {},
    "colab_type": "code",
    "id": "LcEVm7paVOTo"
   },
   "outputs": [],
   "source": [
    "import random\n",
    "import matplotlib.pyplot as plt\n",
    "import math\n",
    "import numpy as np\n",
    "%matplotlib inline\n",
    "\n",
    "# run 'pip install deap'\n",
    "from deap import algorithms, base, creator, tools"
   ]
  },
  {
   "cell_type": "markdown",
   "metadata": {},
   "source": [
    "## Define problem size.\n",
    "Our solution supports any board size S, in which S = {x | $x \\in N$, $x = 1$, $x>3$}"
   ]
  },
  {
   "cell_type": "code",
   "execution_count": 3,
   "metadata": {},
   "outputs": [],
   "source": [
    "# board size\n",
    "board_size = 8"
   ]
  },
  {
   "cell_type": "code",
   "execution_count": 4,
   "metadata": {},
   "outputs": [],
   "source": [
    "creator.create(\"FitnessMin\", base.Fitness, weights=(-1.0,))\n",
    "creator.create(\"Individual\", list, fitness=creator.FitnessMin)"
   ]
  },
  {
   "cell_type": "code",
   "execution_count": 5,
   "metadata": {
    "colab": {},
    "colab_type": "code",
    "id": "AjYwh9eYVOTt"
   },
   "outputs": [],
   "source": [
    "def create_individual():\n",
    "    return random.sample(range(board_size * board_size), board_size)"
   ]
  },
  {
   "cell_type": "code",
   "execution_count": 6,
   "metadata": {
    "colab": {},
    "colab_type": "code",
    "id": "V3rgKtu_VOTv"
   },
   "outputs": [
    {
     "name": "stdout",
     "output_type": "stream",
     "text": [
      "[44, 51, 58, 32, 18, 24, 4, 37]\n"
     ]
    }
   ],
   "source": [
    "# verify individual\n",
    "print(create_individual())"
   ]
  },
  {
   "cell_type": "code",
   "execution_count": 7,
   "metadata": {
    "colab": {},
    "colab_type": "code",
    "id": "ekoiWdxDVOTy"
   },
   "outputs": [],
   "source": [
    "# print grid function\n",
    "def print_grid(board, board_size):\n",
    "    dashes = \"--------------------------------\"\n",
    "    dashes = dashes[:(board_size * 2)]\n",
    "    n = [0]*(board_size * board_size)\n",
    "    for i in board:\n",
    "        n[i] = 1\n",
    "    \n",
    "    count = 0\n",
    "    for i in range(board_size):\n",
    "        for j in range(board_size * board_size):\n",
    "            if j // board_size == i:\n",
    "                if n[j] == 1:\n",
    "                    print('X',end=\"|\")\n",
    "                else:\n",
    "                    print('-',end=\"|\")\n",
    "        print()\n",
    "        print(dashes)"
   ]
  },
  {
   "cell_type": "code",
   "execution_count": 8,
   "metadata": {
    "colab": {},
    "colab_type": "code",
    "id": "N8XtgeUKVOT0"
   },
   "outputs": [],
   "source": [
    "toolbox = base.Toolbox()\n",
    "toolbox.register(\"individual\", tools.initIterate, creator.Individual, create_individual)\n",
    "toolbox.register(\"population\", tools.initRepeat, list, toolbox.individual)\n",
    "pop = toolbox.population(n=1000)"
   ]
  },
  {
   "cell_type": "code",
   "execution_count": 9,
   "metadata": {
    "colab": {},
    "colab_type": "code",
    "id": "YTk0VOT-VOT3"
   },
   "outputs": [
    {
     "name": "stdout",
     "output_type": "stream",
     "text": [
      "[37, 59, 36, 5, 46, 8, 43, 27]\n",
      "-|-|-|-|-|X|-|-|\n",
      "----------------\n",
      "X|-|-|-|-|-|-|-|\n",
      "----------------\n",
      "-|-|-|-|-|-|-|-|\n",
      "----------------\n",
      "-|-|-|X|-|-|-|-|\n",
      "----------------\n",
      "-|-|-|-|X|X|-|-|\n",
      "----------------\n",
      "-|-|-|X|-|-|X|-|\n",
      "----------------\n",
      "-|-|-|-|-|-|-|-|\n",
      "----------------\n",
      "-|-|-|X|-|-|-|-|\n",
      "----------------\n"
     ]
    }
   ],
   "source": [
    "# verify population\n",
    "print(pop[0])\n",
    "print_grid(pop[0], board_size)"
   ]
  },
  {
   "cell_type": "markdown",
   "metadata": {
    "colab_type": "text",
    "id": "qzj4Y0L5VOT8"
   },
   "source": [
    "### 10 pts:  Write your code in the below to define the \"eval_fitness\" function, which returns the fitness of any given board.  \n",
    "\n",
    "- Notice that in this case, a mutation may generate an invalid board, e.g., a board with dupliciate positions. Consider the board \\[5, 32, 8, 8, 41, 3, 55, 49\\].\n",
    "\n",
    "- How can we exclude boards that are explicitly invalid? One way is to add some penalty to the fitness value of invalid boards. In that case, any invalid board will have a very high fitness value (remember that our goal is to find the board with least fitness value).    To do that, let's write a function ***checkDuplicate()*** to calculate the number of queen pairs in the same position for any given board.   ***Give each duplicate a high penalty (i.e., multiply by 20, 50) and add the penalty to the fitness value.*** \n",
    "\n",
    "-  eval_fitness() should return the total number of duplicate position pairs (with penalty) and the total number of distinct pairs of queens that attack each other.  "
   ]
  },
  {
   "cell_type": "code",
   "execution_count": 10,
   "metadata": {
    "colab": {},
    "colab_type": "code",
    "id": "ZTHRSMRMVOT8"
   },
   "outputs": [],
   "source": [
    "# Calculate the number of queen pairs in the same position for any given board\n",
    "def check_duplicate(individual):\n",
    "    dup = 0\n",
    "    individual_sorted = sorted(individual)\n",
    "    duplicates=[]\n",
    "    for i in individual_sorted:\n",
    "     if individual_sorted.count(i)>1:\n",
    "         if i not in duplicates:\n",
    "             duplicates.append(i)\n",
    "    dup = len(duplicates)\n",
    "    \n",
    "    return dup"
   ]
  },
  {
   "cell_type": "markdown",
   "metadata": {},
   "source": [
    "## eval_fitness()\n",
    "For a 1D array representing a board with some N queens, the following is done to check for collisions: first an empty dictionary is created. The dictionary is used to keep track of pair mappings in which an integer key maps to a tuple, representing that collision. Then, we check for a vertical, horizontal, and diagonal collision. A helper method unique_tuples() is given this dictionary, and computes a list of distinct conflicts. The size of this list is the number of distinct conflicts found for this board."
   ]
  },
  {
   "cell_type": "code",
   "execution_count": 11,
   "metadata": {},
   "outputs": [],
   "source": [
    "def unique_tuples(d):\n",
    "    unique = []\n",
    "    for key in d:\n",
    "        reverse = ()\n",
    "        item = d[key]\n",
    "        for i in reversed(item):\n",
    "            reverse += (i,)\n",
    "        if item not in unique and reverse not in unique:\n",
    "            unique.append(item)\n",
    "    #print(unique)\n",
    "    return unique\n",
    "\n",
    "# scan left-to-right diagonals\n",
    "def check_diag_right(i, j, board_size):\n",
    "    n_upper = board_size + 1\n",
    "    right_edge = []\n",
    "    left_edge = []\n",
    "    for k in range(board_size * board_size):\n",
    "        if (k + 1) % board_size == 0:\n",
    "            right_edge.append(k)\n",
    "        if k % board_size == 0:\n",
    "            left_edge.append(k)\n",
    "    \n",
    "    # directly adjacent\n",
    "    if i not in right_edge:\n",
    "        right = i\n",
    "        if (right + n_upper) == j:\n",
    "            return True\n",
    "    \n",
    "    if i not in left_edge:\n",
    "        left = i\n",
    "        if (left - n_upper) == j:\n",
    "            return True\n",
    "    \n",
    "    if j not in right_edge:\n",
    "        right = j\n",
    "        if (right + n_upper) == i:\n",
    "            return True\n",
    "    \n",
    "    if j not in left_edge:\n",
    "        left = j\n",
    "        if (left - n_upper) == i:\n",
    "            return True\n",
    "    # if i > j scan i to the left else scan j to the left\n",
    "    for l in range(board_size):\n",
    "        if i > j:\n",
    "            if i not in left_edge:\n",
    "                i -= n_upper\n",
    "                if i == j:\n",
    "                    return True\n",
    "            if j not in right_edge:\n",
    "                j += n_upper\n",
    "                if j == i:\n",
    "                    return True\n",
    "        else:\n",
    "            if j not in left_edge:\n",
    "                j -= n_upper\n",
    "                if j == i:\n",
    "                    return True\n",
    "            if i not in right_edge:\n",
    "                i += n_upper\n",
    "                if i == j:\n",
    "                    return True\n",
    "    return False\n",
    "\n",
    "# scan right to left diagonals\n",
    "def check_diag_left(i, j, board_size):\n",
    "    n_lower = board_size - 1\n",
    "    right_edge = []\n",
    "    left_edge = []\n",
    "    \n",
    "    for k in range(board_size * board_size):\n",
    "        if (k + 1) % board_size == 0:\n",
    "            right_edge.append(k)\n",
    "        if k % board_size == 0:\n",
    "            left_edge.append(k)\n",
    "    \n",
    "    # directly adjacent\n",
    "    if i not in left_edge:\n",
    "        right = i\n",
    "        if (right + n_lower) == j:\n",
    "            return True\n",
    "    \n",
    "    if i not in right_edge:\n",
    "        left = i\n",
    "        if (left - n_lower) == j:\n",
    "            return True\n",
    "    \n",
    "    if j not in left_edge:\n",
    "        right = j\n",
    "        if (right + n_lower) == i:\n",
    "            return True\n",
    "    \n",
    "    if j not in right_edge:\n",
    "        left = j\n",
    "        if (left - n_lower) == i:\n",
    "            return True\n",
    "    \n",
    "    # if i > j scan i to the right else scan j to the right\n",
    "    for l in range(board_size):\n",
    "        if i > j:\n",
    "            if i not in right_edge:\n",
    "                i -= n_lower\n",
    "                if i == j:\n",
    "                    return True\n",
    "            if j not in left_edge:\n",
    "                j += n_lower\n",
    "                if j == i:\n",
    "                    return True\n",
    "        else:\n",
    "            if j not in right_edge:\n",
    "                j -= n_lower\n",
    "                if j == i:\n",
    "                    return True\n",
    "            if i not in left_edge:\n",
    "                i += n_lower\n",
    "                if i == j:\n",
    "                    return True\n",
    "    return False\n",
    "\n",
    "def eval_fitness(individual):\n",
    "    key = 0\n",
    "    pairs = {}\n",
    "    n_lower = board_size - 1\n",
    "    \n",
    "    for i in individual: \n",
    "        for j in individual:\n",
    "            if i == j:\n",
    "                continue\n",
    "            if (i - j) % board_size == 0:\n",
    "                key += 1\n",
    "                pairs[key] = (i, j)\n",
    "            if (math.floor(i / board_size)) == (math.floor(j / board_size)):\n",
    "                key += 1\n",
    "                pairs[key] = (i, j)\n",
    "            if check_diag_right(i, j, board_size): \n",
    "                key += 1\n",
    "                pairs[key] = (i, j)\n",
    "            if check_diag_left(i, j, board_size):\n",
    "                key += 1\n",
    "                pairs[key] = (i, j)\n",
    "    \n",
    "    unique = unique_tuples(pairs)\n",
    "    return ((50*check_duplicate(individual)) + len(unique),)"
   ]
  },
  {
   "cell_type": "code",
   "execution_count": 12,
   "metadata": {},
   "outputs": [
    {
     "name": "stdout",
     "output_type": "stream",
     "text": [
      "-|-|-|-|-|X|-|-|\n",
      "----------------\n",
      "X|-|-|-|-|-|-|-|\n",
      "----------------\n",
      "-|-|-|-|-|-|-|-|\n",
      "----------------\n",
      "-|-|-|X|-|-|-|-|\n",
      "----------------\n",
      "-|-|-|-|X|X|-|-|\n",
      "----------------\n",
      "-|-|-|X|-|-|X|-|\n",
      "----------------\n",
      "-|-|-|-|-|-|-|-|\n",
      "----------------\n",
      "-|-|-|X|-|-|-|-|\n",
      "----------------\n",
      "(9,)\n"
     ]
    }
   ],
   "source": [
    "# verify eval fitness function\n",
    "print_grid(pop[0], board_size)\n",
    "print(eval_fitness(pop[0]))"
   ]
  },
  {
   "cell_type": "markdown",
   "metadata": {
    "colab_type": "text",
    "id": "tikbcB_kVOT-"
   },
   "source": [
    "### 5 pts:  Write code in the cell below to register the evaluation function to your toolbox object."
   ]
  },
  {
   "cell_type": "code",
   "execution_count": 13,
   "metadata": {
    "colab": {},
    "colab_type": "code",
    "id": "_eDjyzBlVOUB"
   },
   "outputs": [],
   "source": [
    "# register evaluation function\n",
    "toolbox.register(\"evaluate\", eval_fitness)\n",
    "toolbox.register(\"mate\", tools.cxTwoPoint)\n",
    "toolbox.register(\"mutate\", tools.mutUniformInt, low = 0, up = (board_size * board_size), indpb=0.1)\n",
    "toolbox.register(\"select\", tools.selTournament, tournsize=3)"
   ]
  },
  {
   "cell_type": "code",
   "execution_count": 14,
   "metadata": {
    "colab": {},
    "colab_type": "code",
    "id": "6uej76HoVOUD"
   },
   "outputs": [],
   "source": [
    "# initialize statistics object\n",
    "stats = tools.Statistics(key=lambda ind: ind.fitness.values)\n",
    "stats.register(\"avg\", np.mean)\n",
    "stats.register(\"min\", np.min)"
   ]
  },
  {
   "cell_type": "markdown",
   "metadata": {
    "colab_type": "text",
    "id": "OmnhqV_MVOUJ"
   },
   "source": [
    "### 10 pts:  Write code in the cell below to create the generation one, a hall of fame, and to launch the genetic algorithm: eaSimple().\n",
    "Think about how many individuals you want to have per generation and how many generations you want the algorithm to go through for each run. Vary these parameters to see how they affect the outcome.\n",
    "\n",
    "**The *simple evolutionary algorithm* takes 5 arguments:**\n",
    "* the population\n",
    "* the toolbox\n",
    "* the probability of cross-overing two individuals (`cxpb`)\n",
    "* the probability of mutating each individual (`mutpb`) \n",
    "* the number of generations to accomplish (`ngen`). "
   ]
  },
  {
   "cell_type": "code",
   "execution_count": 15,
   "metadata": {
    "colab": {},
    "colab_type": "code",
    "id": "SsTaPuPgVOUK"
   },
   "outputs": [
    {
     "name": "stdout",
     "output_type": "stream",
     "text": [
      "gen\tnevals\tavg   \tmin\n",
      "0  \t1000  \t10.161\t3  \n",
      "1  \t571   \t13.185\t3  \n",
      "2  \t620   \t12.863\t3  \n",
      "3  \t577   \t11.75 \t3  \n",
      "4  \t597   \t11.131\t3  \n",
      "5  \t609   \t10.885\t3  \n",
      "6  \t635   \t11.334\t2  \n",
      "7  \t630   \t11.057\t2  \n",
      "8  \t596   \t10.336\t3  \n",
      "9  \t625   \t10.919\t2  \n",
      "10 \t641   \t10.451\t2  \n",
      "11 \t639   \t10.291\t2  \n",
      "12 \t632   \t9.984 \t1  \n",
      "13 \t611   \t9.62  \t1  \n",
      "14 \t608   \t8.466 \t1  \n",
      "15 \t568   \t8.263 \t2  \n",
      "16 \t602   \t7.939 \t2  \n",
      "17 \t615   \t6.678 \t2  \n",
      "18 \t585   \t5.244 \t2  \n",
      "19 \t591   \t5.315 \t2  \n",
      "20 \t584   \t4.541 \t2  \n",
      "21 \t598   \t3.581 \t1  \n",
      "22 \t587   \t3.676 \t0  \n",
      "23 \t610   \t3.578 \t0  \n",
      "24 \t614   \t3.91  \t0  \n",
      "25 \t606   \t3.519 \t0  \n",
      "26 \t623   \t3.601 \t0  \n",
      "27 \t606   \t3.013 \t0  \n",
      "28 \t597   \t2.641 \t0  \n",
      "29 \t580   \t1.455 \t0  \n",
      "30 \t622   \t1.496 \t0  \n",
      "31 \t610   \t0.953 \t0  \n",
      "32 \t598   \t1.331 \t0  \n",
      "33 \t604   \t1.898 \t0  \n",
      "34 \t572   \t1.137 \t0  \n",
      "35 \t592   \t0.841 \t0  \n",
      "36 \t565   \t0.892 \t0  \n",
      "37 \t652   \t1.244 \t0  \n",
      "38 \t634   \t1.067 \t0  \n",
      "39 \t621   \t1.315 \t0  \n",
      "40 \t642   \t0.872 \t0  \n",
      "41 \t593   \t0.919 \t0  \n",
      "42 \t565   \t1.078 \t0  \n",
      "43 \t655   \t1.191 \t0  \n",
      "44 \t621   \t1.268 \t0  \n",
      "45 \t593   \t1.73  \t0  \n",
      "46 \t606   \t1.644 \t0  \n",
      "47 \t618   \t1.219 \t0  \n",
      "48 \t587   \t1.065 \t0  \n",
      "49 \t569   \t1.05  \t0  \n",
      "50 \t626   \t1.674 \t0  \n",
      "51 \t603   \t1.065 \t0  \n",
      "52 \t607   \t1.27  \t0  \n",
      "53 \t604   \t1.379 \t0  \n",
      "54 \t613   \t1.005 \t0  \n",
      "55 \t592   \t1.28  \t0  \n",
      "56 \t556   \t0.911 \t0  \n",
      "57 \t602   \t1.001 \t0  \n",
      "58 \t611   \t1.346 \t0  \n",
      "59 \t579   \t1.164 \t0  \n",
      "60 \t621   \t1.248 \t0  \n",
      "61 \t630   \t1.195 \t0  \n",
      "62 \t621   \t1.104 \t0  \n",
      "63 \t609   \t1.497 \t0  \n",
      "64 \t613   \t1.206 \t0  \n",
      "65 \t600   \t0.917 \t0  \n",
      "66 \t576   \t1.207 \t0  \n",
      "67 \t610   \t1.13  \t0  \n",
      "68 \t606   \t1.341 \t0  \n",
      "69 \t626   \t1.565 \t0  \n",
      "70 \t571   \t1.174 \t0  \n",
      "71 \t611   \t1.009 \t0  \n",
      "72 \t620   \t1.013 \t0  \n",
      "73 \t648   \t1.332 \t0  \n",
      "74 \t566   \t1.015 \t0  \n",
      "75 \t576   \t0.972 \t0  \n",
      "76 \t602   \t1.664 \t0  \n",
      "77 \t589   \t1.031 \t0  \n",
      "78 \t594   \t0.874 \t0  \n",
      "79 \t617   \t1.099 \t0  \n",
      "80 \t615   \t1.09  \t0  \n",
      "81 \t584   \t0.932 \t0  \n",
      "82 \t626   \t1.398 \t0  \n",
      "83 \t672   \t1.331 \t0  \n",
      "84 \t569   \t1.42  \t0  \n",
      "85 \t622   \t1.105 \t0  \n",
      "86 \t578   \t1.065 \t0  \n",
      "87 \t617   \t1.034 \t0  \n",
      "88 \t626   \t1.584 \t0  \n",
      "89 \t563   \t1.099 \t0  \n",
      "90 \t604   \t1.531 \t0  \n",
      "91 \t615   \t1.207 \t0  \n",
      "92 \t612   \t1.13  \t0  \n",
      "93 \t628   \t1.169 \t0  \n",
      "94 \t623   \t0.851 \t0  \n",
      "95 \t623   \t1.244 \t0  \n",
      "96 \t593   \t1.214 \t0  \n",
      "97 \t603   \t1.023 \t0  \n",
      "98 \t589   \t1.178 \t0  \n",
      "99 \t607   \t1.071 \t0  \n",
      "100\t638   \t1.274 \t0  \n"
     ]
    }
   ],
   "source": [
    "pop = toolbox.population(n=1000)\n",
    "hof = tools.HallOfFame(maxsize=10)\n",
    "pop, log = algorithms.eaSimple(\n",
    "    pop, \n",
    "    toolbox, \n",
    "    cxpb=0.5, \n",
    "    mutpb=0.2, \n",
    "    ngen=100, \n",
    "    stats=stats, \n",
    "    halloffame=hof, \n",
    "    verbose=True)"
   ]
  },
  {
   "cell_type": "markdown",
   "metadata": {
    "colab_type": "text",
    "id": "OkApdsjQVOUL"
   },
   "source": [
    "### 5 pts:  Plot the \"avg\" and \"min\" for each generation"
   ]
  },
  {
   "cell_type": "code",
   "execution_count": 16,
   "metadata": {
    "colab": {},
    "colab_type": "code",
    "id": "gcFc3eOyVOUM",
    "scrolled": true
   },
   "outputs": [
    {
     "data": {
      "image/png": "[encoded data removed]",
      "text/plain": [
       "<Figure size 432x288 with 1 Axes>"
      ]
     },
     "metadata": {
      "needs_background": "light"
     },
     "output_type": "display_data"
    }
   ],
   "source": [
    "gen, avg, min_ = log.select(\"gen\", \"avg\", \"min\")\n",
    "plt.title(\"Position-based-index\")\n",
    "plt.plot(gen, avg, label=\"average\")\n",
    "plt.plot(gen, min_, label=\"minimum\")\n",
    "plt.xlabel(\"Generation\")\n",
    "plt.ylabel(\"Fitness\")\n",
    "plt.legend(loc=\"upper right\")\n",
    "plt.show()"
   ]
  },
  {
   "cell_type": "markdown",
   "metadata": {
    "colab_type": "text",
    "id": "t6PFTvUZVOUN"
   },
   "source": [
    "### 5 pts:  Print out the best individual and its fitness value. Show the best individual as a chessboard."
   ]
  },
  {
   "cell_type": "code",
   "execution_count": 17,
   "metadata": {
    "colab": {},
    "colab_type": "code",
    "id": "-MeBQ0BZVOUO"
   },
   "outputs": [
    {
     "name": "stdout",
     "output_type": "stream",
     "text": [
      "Best individual is: [16, 10, 59, 36, 5, 47, 49, 30]\n",
      "Eval Fitness is 0! This board is a valid solution.\n",
      "-|-|-|-|-|X|-|-|\n",
      "----------------\n",
      "-|-|X|-|-|-|-|-|\n",
      "----------------\n",
      "X|-|-|-|-|-|-|-|\n",
      "----------------\n",
      "-|-|-|-|-|-|X|-|\n",
      "----------------\n",
      "-|-|-|-|X|-|-|-|\n",
      "----------------\n",
      "-|-|-|-|-|-|-|X|\n",
      "----------------\n",
      "-|X|-|-|-|-|-|-|\n",
      "----------------\n",
      "-|-|-|X|-|-|-|-|\n",
      "----------------\n"
     ]
    }
   ],
   "source": [
    "best_ind = tools.selBest(pop, k=1)[0]\n",
    "print('Best individual is: {}'.format(best_ind))\n",
    "if eval_fitness(best_ind)[0] > 0:\n",
    "    print('Eval Fitness Value: {}'.format(eval_fitness(best_ind)[0]))\n",
    "else:\n",
    "    print('Eval Fitness is 0! This board is a valid solution.')\n",
    "print_grid(best_ind, board_size)"
   ]
  },
  {
   "cell_type": "markdown",
   "metadata": {
    "colab_type": "text",
    "id": "_PCJJdWAVOUP"
   },
   "source": [
    "## Part II: Row-index-based board representation\n",
    "In row-index based representation, the rows of the chessboard are indexed from 0->7. Each queen can only belong to a single row. The sequence \\[ a b c d .... \\] means that in $0^{th}$ row, $a^{th}$ column, the queen is present and so on. A good way to think of it is that for each row from 0 to N, each value of a given sequence indicates the *depth* of the queen's location in that row. Consider the board \\[0, 1, 1, 3\\] for N=4. This would result in the following grid:\n",
    "\n",
    "```\n",
    "x|-|-|-\n",
    "-|x|-|-\n",
    "-|x|-|-\n",
    "-|-|-|x\n",
    "```"
   ]
  },
  {
   "cell_type": "code",
   "execution_count": 18,
   "metadata": {
    "colab": {},
    "colab_type": "code",
    "id": "BF0R7swEVOUQ"
   },
   "outputs": [
    {
     "name": "stderr",
     "output_type": "stream",
     "text": [
      "/Users/lucassaechao/opt/anaconda3/lib/python3.7/site-packages/deap/creator.py:141: RuntimeWarning: A class named 'FitnessMin' has already been created and it will be overwritten. Consider deleting previous creation of that class or rename it.\n",
      "  RuntimeWarning)\n",
      "/Users/lucassaechao/opt/anaconda3/lib/python3.7/site-packages/deap/creator.py:141: RuntimeWarning: A class named 'Individual' has already been created and it will be overwritten. Consider deleting previous creation of that class or rename it.\n",
      "  RuntimeWarning)\n"
     ]
    }
   ],
   "source": [
    "creator.create(\"FitnessMin\", base.Fitness, weights=(-1.0,))\n",
    "creator.create(\"Individual\", list, fitness=creator.FitnessMin)"
   ]
  },
  {
   "cell_type": "code",
   "execution_count": 19,
   "metadata": {
    "colab": {},
    "colab_type": "code",
    "id": "n4II9oePVOUS"
   },
   "outputs": [
    {
     "name": "stdout",
     "output_type": "stream",
     "text": [
      "[[4, 1, 3, 0, 3, 6, 1, 4], [5, 0, 7, 1, 1, 1, 1, 2], [7, 4, 4, 0, 3, 4, 5, 0], [1, 6, 6, 2, 2, 7, 7, 0], [3, 5, 3, 4, 6, 6, 4, 0], [4, 3, 2, 0, 5, 2, 6, 7], [6, 5, 7, 7, 0, 1, 2, 6], [6, 2, 6, 4, 0, 0, 4, 4], [5, 0, 4, 0, 6, 4, 3, 7], [2, 5, 3, 6, 0, 0, 2, 6], [3, 6, 7, 6, 0, 1, 4, 2], [5, 7, 7, 6, 6, 4, 6, 1], [0, 2, 7, 4, 0, 5, 3, 5], [6, 6, 2, 1, 1, 6, 1, 5], [7, 0, 2, 0, 1, 7, 2, 6], [0, 6, 3, 0, 5, 6, 5, 4], [4, 5, 3, 5, 7, 1, 2, 0], [7, 0, 7, 0, 4, 6, 2, 6], [0, 1, 2, 1, 7, 4, 0, 4], [4, 5, 6, 1, 7, 0, 4, 4], [4, 5, 4, 5, 3, 6, 2, 3], [3, 6, 0, 2, 0, 1, 6, 4], [6, 6, 6, 6, 2, 6, 2, 4], [6, 7, 0, 2, 5, 3, 5, 2], [0, 1, 4, 1, 4, 5, 1, 0], [6, 2, 1, 3, 1, 7, 2, 4], [7, 2, 6, 4, 3, 1, 2, 3], [6, 2, 7, 6, 6, 4, 0, 3], [6, 4, 6, 7, 5, 0, 1, 0], [0, 4, 7, 6, 5, 7, 7, 4], [5, 4, 0, 3, 5, 6, 7, 4], [5, 1, 1, 2, 4, 0, 6, 7], [1, 0, 5, 7, 0, 1, 0, 3], [2, 1, 0, 7, 5, 6, 1, 3], [4, 3, 4, 6, 5, 4, 4, 3], [1, 7, 4, 3, 6, 3, 1, 7], [0, 6, 7, 3, 5, 5, 1, 6], [7, 2, 6, 3, 1, 7, 6, 3], [5, 4, 2, 3, 3, 1, 3, 2], [6, 0, 2, 1, 7, 4, 4, 6], [3, 4, 6, 7, 4, 1, 0, 4], [3, 1, 6, 5, 4, 1, 3, 7], [2, 7, 3, 5, 4, 4, 1, 3], [5, 4, 0, 3, 7, 4, 0, 7], [4, 7, 0, 5, 2, 6, 0, 5], [0, 4, 7, 3, 3, 2, 3, 4], [7, 3, 5, 4, 2, 6, 6, 5], [5, 7, 5, 2, 1, 3, 5, 7], [0, 6, 5, 0, 3, 3, 7, 4], [7, 7, 1, 6, 3, 5, 1, 7], [2, 5, 2, 4, 5, 1, 0, 6], [4, 5, 1, 1, 2, 6, 6, 4], [1, 4, 0, 4, 4, 3, 1, 2], [1, 6, 1, 2, 0, 4, 0, 3], [3, 4, 2, 5, 2, 0, 4, 3], [4, 5, 3, 1, 6, 1, 0, 1], [4, 4, 2, 6, 2, 4, 0, 3], [5, 4, 2, 2, 1, 6, 0, 6], [7, 7, 4, 1, 2, 7, 1, 3], [5, 1, 3, 7, 1, 0, 5, 1], [2, 3, 0, 3, 0, 5, 7, 2], [2, 3, 1, 7, 7, 6, 4, 0], [1, 3, 6, 7, 5, 3, 2, 6], [7, 6, 6, 3, 2, 4, 6, 3], [1, 0, 5, 2, 6, 1, 5, 0], [6, 3, 6, 0, 2, 1, 7, 5], [1, 4, 4, 5, 4, 2, 1, 2], [3, 3, 1, 6, 1, 0, 1, 7], [4, 1, 1, 1, 7, 2, 7, 1], [1, 4, 4, 4, 5, 1, 4, 5], [0, 2, 4, 4, 7, 2, 6, 5], [5, 2, 2, 1, 3, 1, 1, 3], [2, 3, 1, 7, 5, 3, 2, 7], [7, 3, 5, 1, 5, 7, 4, 2], [6, 0, 0, 3, 2, 2, 6, 4], [2, 7, 5, 3, 1, 6, 0, 0], [5, 7, 1, 7, 2, 3, 2, 3], [4, 6, 5, 0, 1, 1, 7, 7], [7, 4, 5, 4, 1, 0, 6, 1], [5, 0, 3, 3, 4, 5, 1, 5], [1, 3, 5, 0, 2, 4, 3, 1], [5, 1, 1, 4, 7, 3, 4, 7], [1, 1, 4, 6, 5, 1, 2, 2], [6, 2, 1, 6, 4, 4, 5, 4], [2, 2, 0, 5, 1, 4, 1, 7], [2, 1, 4, 7, 0, 5, 4, 0], [5, 0, 4, 3, 5, 0, 5, 5], [2, 1, 6, 0, 2, 1, 4, 3], [7, 3, 4, 6, 1, 5, 5, 2], [4, 2, 6, 7, 5, 3, 4, 6], [7, 1, 5, 4, 5, 5, 6, 7], [0, 1, 6, 6, 0, 2, 6, 2], [1, 6, 1, 6, 3, 3, 2, 3], [6, 6, 4, 2, 7, 3, 1, 1], [3, 5, 7, 5, 2, 7, 5, 1], [4, 2, 4, 5, 6, 5, 7, 5], [5, 7, 4, 3, 3, 2, 0, 2], [7, 4, 4, 5, 6, 5, 6, 0], [7, 5, 2, 7, 5, 2, 5, 4], [3, 0, 2, 4, 0, 5, 0, 1], [4, 3, 2, 3, 7, 4, 7, 3], [5, 2, 5, 4, 0, 5, 0, 3], [1, 3, 7, 4, 5, 3, 7, 5], [5, 0, 2, 3, 4, 3, 7, 6], [4, 0, 6, 3, 0, 0, 3, 2], [5, 2, 0, 3, 7, 6, 1, 7], [4, 0, 6, 7, 1, 7, 5, 2], [2, 3, 5, 7, 1, 5, 3, 3], [2, 4, 2, 6, 1, 6, 5, 6], [7, 7, 4, 6, 3, 1, 2, 2], [6, 2, 2, 2, 7, 1, 6, 5], [3, 5, 4, 0, 2, 4, 2, 5], [3, 4, 6, 7, 3, 6, 6, 3], [1, 0, 5, 0, 0, 1, 4, 2], [5, 3, 2, 3, 0, 1, 6, 1], [5, 2, 4, 7, 2, 3, 0, 0], [0, 0, 6, 2, 7, 7, 7, 1], [0, 0, 0, 5, 7, 0, 3, 1], [6, 7, 6, 0, 0, 1, 6, 5], [1, 3, 4, 2, 7, 5, 7, 4], [6, 1, 1, 2, 5, 6, 2, 2], [3, 1, 1, 7, 0, 5, 7, 0], [3, 0, 4, 1, 2, 2, 0, 7], [5, 1, 6, 6, 3, 7, 7, 1], [2, 7, 7, 4, 5, 3, 2, 3], [5, 5, 6, 2, 6, 4, 0, 4], [5, 4, 5, 1, 7, 0, 4, 0], [1, 0, 7, 7, 6, 7, 4, 4], [6, 3, 7, 2, 3, 0, 2, 3], [3, 0, 3, 5, 4, 7, 3, 3], [2, 1, 6, 2, 4, 0, 5, 1], [7, 3, 2, 2, 3, 5, 3, 0], [5, 2, 2, 6, 6, 0, 2, 1], [6, 3, 4, 6, 2, 1, 4, 3], [4, 3, 5, 2, 7, 0, 3, 6], [4, 6, 3, 4, 1, 3, 4, 3], [4, 7, 2, 4, 4, 1, 1, 2], [1, 7, 2, 6, 3, 5, 4, 0], [7, 6, 6, 6, 4, 6, 7, 7], [0, 5, 4, 5, 0, 5, 3, 2], [3, 6, 4, 2, 0, 7, 1, 5], [0, 1, 4, 1, 2, 7, 1, 0], [4, 4, 3, 2, 0, 2, 3, 5], [5, 0, 1, 0, 3, 2, 6, 2], [5, 0, 1, 2, 4, 5, 0, 5], [3, 2, 0, 7, 4, 1, 4, 7], [0, 4, 5, 6, 7, 0, 5, 3], [5, 2, 0, 7, 5, 5, 2, 3], [0, 4, 3, 6, 5, 2, 3, 4], [7, 1, 3, 7, 2, 3, 5, 2], [4, 1, 4, 4, 5, 6, 7, 2], [3, 4, 1, 6, 1, 6, 4, 0], [0, 4, 1, 5, 7, 5, 5, 6], [5, 1, 1, 5, 2, 5, 2, 0], [6, 5, 6, 5, 7, 7, 3, 7], [6, 5, 5, 7, 1, 2, 1, 2], [4, 4, 5, 6, 2, 0, 3, 7], [3, 0, 6, 1, 6, 2, 5, 1], [6, 2, 6, 5, 7, 1, 2, 3], [3, 4, 6, 7, 2, 4, 3, 3], [2, 6, 7, 3, 7, 3, 3, 6], [6, 6, 2, 6, 7, 5, 5, 7], [0, 6, 6, 6, 6, 1, 7, 0], [1, 6, 5, 5, 0, 1, 2, 3], [0, 0, 5, 7, 7, 7, 7, 1], [6, 4, 5, 2, 6, 2, 2, 5], [1, 0, 7, 5, 0, 7, 0, 7], [7, 7, 1, 3, 6, 7, 4, 5], [0, 1, 2, 5, 4, 2, 5, 0], [7, 1, 0, 7, 3, 7, 0, 0], [2, 2, 7, 1, 4, 3, 5, 0], [2, 7, 2, 1, 7, 4, 4, 1], [5, 7, 6, 1, 1, 6, 0, 1], [0, 5, 4, 0, 6, 1, 2, 4], [6, 5, 4, 1, 6, 0, 4, 3], [5, 6, 5, 2, 5, 4, 2, 6], [6, 4, 7, 1, 7, 4, 6, 4], [6, 2, 2, 3, 3, 4, 3, 5], [4, 2, 5, 7, 4, 7, 2, 7], [2, 3, 0, 5, 0, 2, 4, 1], [5, 0, 7, 3, 6, 6, 2, 1], [0, 0, 7, 4, 3, 2, 3, 7], [6, 5, 3, 0, 2, 5, 4, 2], [6, 4, 1, 0, 1, 3, 2, 1], [4, 2, 4, 3, 1, 1, 6, 1], [6, 4, 4, 5, 4, 1, 4, 0], [2, 1, 0, 1, 1, 7, 2, 6], [3, 6, 4, 2, 4, 6, 5, 1], [7, 5, 2, 6, 0, 2, 5, 0], [5, 1, 2, 2, 6, 6, 2, 6], [3, 2, 2, 6, 2, 1, 2, 6], [5, 0, 3, 2, 5, 1, 2, 5], [1, 1, 2, 1, 2, 5, 7, 1], [5, 6, 2, 4, 3, 0, 1, 4], [5, 6, 2, 1, 2, 6, 2, 0], [2, 3, 4, 2, 7, 4, 7, 0], [7, 1, 7, 4, 1, 0, 4, 6], [0, 1, 5, 4, 3, 7, 7, 1], [5, 3, 4, 2, 7, 1, 5, 1], [7, 4, 5, 6, 0, 2, 7, 3], [6, 6, 1, 3, 0, 1, 1, 6], [6, 2, 5, 0, 2, 0, 3, 7], [0, 2, 1, 7, 4, 7, 2, 3], [7, 6, 7, 6, 3, 3, 0, 0], [1, 6, 2, 0, 1, 6, 4, 7], [0, 3, 3, 0, 2, 6, 3, 7], [7, 3, 7, 5, 0, 5, 0, 1], [1, 2, 2, 7, 0, 2, 2, 5], [7, 7, 6, 4, 4, 0, 3, 4], [2, 5, 5, 3, 5, 2, 7, 2], [7, 5, 7, 7, 1, 6, 2, 7], [7, 6, 5, 1, 4, 2, 5, 0], [3, 5, 1, 7, 6, 7, 0, 5], [1, 7, 6, 7, 2, 0, 7, 3], [4, 5, 6, 0, 4, 5, 7, 5], [5, 0, 5, 4, 0, 0, 0, 3], [0, 3, 7, 0, 5, 3, 1, 3], [1, 5, 2, 1, 4, 7, 2, 2], [4, 7, 4, 5, 7, 2, 5, 4], [3, 7, 5, 5, 3, 2, 3, 7], [3, 7, 2, 4, 6, 1, 4, 6], [3, 2, 3, 0, 1, 0, 6, 6], [7, 6, 2, 2, 7, 7, 5, 0], [2, 6, 6, 7, 7, 4, 4, 1], [6, 6, 1, 0, 6, 5, 1, 7], [1, 6, 5, 6, 7, 6, 4, 7], [5, 4, 1, 1, 0, 2, 4, 2], [1, 6, 0, 6, 2, 3, 7, 2], [2, 0, 0, 0, 6, 5, 7, 7], [7, 7, 6, 2, 4, 2, 6, 4], [0, 2, 0, 7, 6, 1, 1, 2], [5, 4, 7, 1, 3, 7, 5, 4], [6, 6, 0, 3, 6, 3, 1, 2], [1, 2, 2, 4, 3, 1, 0, 0], [7, 0, 0, 5, 0, 7, 3, 4], [4, 2, 3, 7, 2, 3, 0, 0], [3, 6, 2, 7, 4, 1, 0, 1], [3, 2, 4, 3, 7, 2, 7, 4], [3, 0, 5, 2, 2, 4, 7, 3], [6, 7, 7, 7, 5, 3, 1, 6], [4, 5, 7, 0, 0, 3, 7, 1], [6, 4, 5, 6, 5, 1, 2, 4], [0, 1, 2, 7, 5, 1, 2, 7], [6, 0, 0, 0, 6, 3, 0, 7], [4, 1, 4, 7, 1, 5, 0, 7], [5, 4, 4, 1, 3, 1, 5, 7], [3, 3, 3, 2, 4, 2, 5, 5], [4, 2, 3, 1, 4, 7, 7, 3], [0, 6, 4, 3, 3, 3, 0, 1], [6, 1, 0, 7, 1, 7, 6, 0], [5, 0, 2, 4, 2, 1, 6, 7], [3, 3, 1, 0, 3, 5, 3, 3], [0, 1, 6, 3, 5, 4, 6, 6], [0, 7, 1, 4, 1, 4, 4, 2], [4, 7, 1, 6, 7, 1, 1, 2], [3, 6, 5, 1, 0, 5, 1, 6], [4, 1, 1, 4, 3, 7, 2, 7], [5, 4, 5, 7, 0, 4, 5, 4], [0, 3, 2, 2, 6, 1, 2, 3], [3, 5, 6, 0, 1, 3, 1, 0], [0, 4, 4, 2, 5, 3, 6, 3], [6, 1, 6, 1, 2, 3, 4, 4], [6, 0, 6, 2, 7, 1, 3, 7], [0, 4, 2, 3, 6, 1, 7, 7], [3, 1, 4, 2, 6, 1, 0, 1], [7, 1, 3, 6, 7, 6, 5, 6], [1, 7, 4, 2, 4, 2, 3, 3], [0, 5, 7, 7, 0, 3, 2, 6], [2, 5, 0, 6, 6, 3, 2, 3], [0, 3, 2, 5, 5, 4, 3, 3], [2, 3, 6, 2, 3, 3, 7, 7], [0, 7, 0, 1, 0, 0, 7, 2], [2, 5, 3, 1, 1, 5, 6, 0], [6, 2, 2, 3, 3, 2, 3, 5], [3, 6, 0, 5, 4, 4, 5, 5], [2, 0, 5, 1, 0, 3, 6, 4], [1, 4, 5, 4, 3, 0, 4, 6], [6, 3, 1, 3, 0, 0, 3, 0], [6, 4, 1, 4, 4, 1, 1, 7], [6, 4, 5, 5, 1, 1, 4, 5], [5, 3, 3, 5, 6, 2, 0, 5], [4, 2, 4, 2, 2, 2, 2, 6], [0, 5, 5, 2, 6, 0, 0, 6], [4, 5, 2, 4, 0, 5, 7, 5], [1, 6, 2, 5, 1, 3, 3, 7], [7, 2, 2, 1, 7, 6, 2, 3], [5, 0, 7, 3, 5, 5, 4, 5], [3, 6, 3, 3, 7, 4, 0, 5], [5, 3, 6, 0, 4, 0, 7, 4], [2, 2, 3, 7, 7, 4, 3, 1], [5, 6, 1, 4, 7, 3, 0, 4], [5, 3, 4, 5, 5, 4, 2, 2], [2, 1, 2, 7, 1, 6, 0, 1], [5, 7, 0, 1, 4, 5, 7, 3], [2, 0, 0, 0, 7, 5, 4, 4], [7, 1, 4, 6, 5, 2, 2, 6], [0, 4, 5, 2, 6, 5, 3, 4], [2, 7, 7, 3, 3, 1, 5, 1], [2, 5, 1, 6, 7, 7, 4, 7], [7, 6, 2, 2, 6, 2, 2, 2], [1, 7, 7, 2, 7, 3, 1, 5], [3, 3, 3, 2, 0, 7, 4, 6], [5, 1, 1, 3, 3, 7, 6, 1], [7, 5, 3, 6, 5, 2, 6, 3], [4, 4, 6, 3, 7, 0, 6, 5], [3, 0, 3, 2, 4, 3, 4, 7], [0, 7, 2, 2, 2, 7, 7, 6], [5, 2, 2, 6, 6, 2, 6, 3], [1, 1, 0, 7, 1, 4, 6, 7], [1, 6, 5, 1, 4, 5, 7, 6], [0, 6, 0, 6, 4, 0, 5, 5], [0, 1, 1, 7, 3, 1, 0, 0], [4, 6, 5, 2, 1, 1, 6, 7], [1, 5, 2, 5, 4, 4, 7, 5], [6, 0, 7, 7, 6, 6, 4, 6], [1, 3, 0, 4, 6, 5, 0, 3], [1, 1, 7, 4, 6, 7, 5, 4], [5, 0, 7, 2, 1, 4, 1, 6], [5, 4, 1, 0, 4, 0, 4, 4], [1, 4, 1, 3, 7, 0, 1, 3], [2, 7, 4, 3, 7, 7, 5, 6], [2, 6, 7, 6, 5, 7, 0, 1], [0, 0, 5, 1, 3, 5, 5, 6], [1, 3, 4, 6, 3, 3, 5, 4], [3, 1, 3, 6, 6, 4, 1, 6], [6, 3, 4, 4, 6, 4, 6, 4], [7, 4, 4, 5, 1, 7, 1, 7], [3, 6, 3, 7, 2, 1, 5, 4], [2, 7, 3, 1, 1, 4, 2, 1], [7, 1, 2, 2, 5, 4, 1, 2], [0, 7, 6, 5, 1, 1, 0, 4], [3, 0, 4, 2, 5, 7, 5, 3], [3, 0, 4, 5, 0, 5, 5, 4], [1, 7, 5, 6, 4, 2, 1, 0], [2, 7, 1, 0, 0, 2, 6, 7], [2, 4, 3, 7, 5, 2, 1, 4], [3, 2, 5, 0, 7, 3, 5, 2], [1, 2, 1, 4, 3, 5, 1, 0], [0, 1, 2, 1, 1, 5, 4, 4], [4, 5, 6, 6, 1, 6, 7, 2], [0, 3, 5, 5, 1, 5, 2, 5], [3, 3, 1, 2, 4, 4, 5, 7], [0, 4, 1, 3, 5, 4, 1, 6], [2, 7, 0, 3, 0, 0, 0, 2], [3, 6, 0, 4, 0, 4, 3, 3], [1, 3, 2, 7, 3, 2, 0, 0], [6, 1, 4, 7, 3, 7, 3, 3], [7, 2, 2, 6, 0, 1, 4, 2], [2, 6, 1, 5, 5, 3, 1, 6], [4, 5, 1, 7, 2, 1, 1, 1], [6, 2, 6, 0, 6, 3, 3, 6], [2, 3, 2, 4, 4, 7, 6, 1], [4, 2, 6, 5, 2, 5, 3, 0], [2, 5, 7, 2, 1, 2, 7, 1], [7, 6, 2, 7, 6, 7, 5, 3], [0, 7, 5, 2, 5, 1, 7, 1], [7, 0, 3, 3, 0, 2, 3, 5], [0, 5, 3, 5, 0, 7, 7, 0], [4, 7, 6, 0, 6, 3, 5, 4], [3, 5, 4, 5, 7, 2, 4, 0], [5, 6, 3, 0, 1, 2, 7, 4], [3, 5, 2, 0, 5, 2, 5, 6], [1, 2, 1, 0, 4, 2, 4, 3], [3, 7, 4, 6, 4, 0, 7, 6], [3, 2, 6, 7, 7, 4, 4, 7], [6, 2, 4, 6, 1, 0, 4, 6], [6, 7, 6, 5, 0, 6, 0, 2], [1, 2, 3, 4, 5, 1, 6, 4], [5, 7, 7, 5, 6, 1, 3, 6], [6, 5, 4, 5, 5, 1, 5, 1], [4, 5, 2, 7, 2, 6, 2, 0], [3, 6, 6, 6, 4, 7, 4, 4], [1, 3, 0, 5, 4, 7, 6, 3], [6, 0, 0, 0, 1, 7, 0, 5], [6, 6, 7, 6, 1, 3, 4, 6], [2, 5, 6, 0, 1, 1, 3, 1], [0, 6, 1, 4, 0, 2, 6, 1], [4, 0, 3, 5, 7, 0, 5, 2], [5, 6, 2, 7, 5, 6, 3, 7], [5, 3, 7, 0, 4, 2, 4, 2], [3, 3, 7, 3, 7, 1, 1, 3], [1, 7, 5, 6, 4, 5, 6, 5], [6, 4, 3, 1, 6, 3, 0, 2], [6, 4, 7, 7, 3, 6, 5, 2], [3, 4, 6, 2, 5, 0, 0, 4], [3, 2, 2, 2, 6, 4, 7, 0], [6, 2, 5, 0, 0, 5, 6, 3], [6, 4, 3, 0, 1, 0, 0, 0], [2, 6, 6, 1, 3, 4, 4, 6], [6, 7, 4, 3, 1, 3, 4, 6], [7, 7, 4, 4, 7, 0, 6, 1], [1, 3, 0, 1, 5, 6, 7, 6], [6, 5, 0, 0, 1, 3, 5, 1], [0, 6, 1, 1, 0, 1, 4, 1], [1, 1, 7, 3, 7, 4, 1, 7], [5, 4, 6, 6, 3, 7, 7, 7], [2, 5, 3, 5, 5, 4, 2, 2], [0, 4, 2, 5, 7, 6, 5, 2], [5, 5, 3, 1, 6, 0, 4, 3], [2, 6, 2, 4, 1, 0, 7, 2], [4, 7, 0, 1, 7, 4, 0, 5], [4, 2, 1, 0, 6, 6, 4, 7], [2, 0, 1, 3, 4, 3, 6, 2], [1, 0, 0, 1, 3, 4, 4, 7], [5, 3, 4, 7, 2, 2, 3, 7], [7, 4, 1, 0, 5, 4, 2, 5], [1, 5, 2, 7, 2, 7, 6, 3], [5, 2, 3, 7, 1, 4, 4, 7], [7, 7, 4, 0, 2, 6, 6, 0], [3, 2, 6, 3, 2, 6, 7, 2], [3, 2, 5, 5, 2, 7, 1, 7], [5, 5, 6, 7, 6, 0, 3, 1], [2, 0, 5, 5, 5, 4, 1, 0], [2, 5, 5, 4, 4, 3, 5, 4], [1, 5, 1, 6, 1, 5, 5, 4], [2, 1, 5, 4, 5, 2, 4, 5], [7, 5, 0, 7, 4, 5, 4, 6], [7, 3, 7, 4, 3, 1, 0, 0], [4, 3, 0, 0, 6, 5, 7, 1], [5, 4, 0, 0, 6, 7, 4, 2], [5, 3, 1, 5, 6, 1, 7, 5], [0, 4, 3, 0, 7, 7, 2, 7], [1, 5, 0, 6, 1, 7, 5, 4], [0, 0, 4, 0, 0, 6, 2, 7], [0, 4, 4, 6, 7, 6, 1, 4], [4, 2, 3, 3, 3, 2, 0, 1], [6, 6, 1, 6, 4, 3, 3, 6], [5, 7, 6, 7, 2, 3, 1, 5], [1, 7, 1, 2, 5, 7, 1, 0], [6, 1, 5, 5, 7, 7, 6, 2], [4, 7, 5, 2, 1, 1, 5, 7], [3, 5, 4, 6, 3, 7, 7, 3], [6, 5, 2, 3, 1, 1, 2, 7], [5, 4, 7, 3, 5, 7, 1, 2], [5, 0, 2, 7, 1, 3, 4, 7], [4, 1, 7, 0, 4, 3, 0, 6], [2, 5, 2, 6, 1, 4, 2, 2], [4, 2, 3, 6, 1, 2, 1, 5], [7, 4, 1, 7, 4, 1, 0, 3], [6, 2, 1, 6, 4, 1, 0, 6], [6, 6, 4, 6, 5, 2, 6, 4], [1, 5, 0, 0, 5, 4, 2, 7], [2, 5, 4, 4, 5, 7, 0, 0], [3, 7, 1, 7, 2, 1, 7, 0], [5, 0, 4, 6, 0, 5, 1, 0], [4, 3, 5, 5, 5, 5, 5, 3], [2, 6, 0, 4, 7, 5, 3, 2], [5, 5, 2, 5, 2, 2, 1, 2], [6, 1, 0, 7, 1, 2, 5, 4], [5, 1, 6, 7, 7, 1, 4, 0], [4, 5, 6, 4, 4, 7, 5, 7], [4, 3, 6, 3, 1, 4, 1, 5], [4, 0, 0, 7, 1, 7, 7, 5], [7, 3, 4, 2, 6, 3, 7, 1], [1, 5, 6, 5, 7, 4, 7, 3], [5, 5, 7, 1, 0, 7, 2, 1], [4, 6, 3, 0, 1, 6, 0, 1], [3, 6, 0, 0, 3, 0, 7, 1], [6, 6, 7, 4, 4, 7, 4, 7], [1, 2, 7, 0, 6, 4, 3, 1], [2, 4, 7, 2, 6, 0, 2, 2], [0, 5, 3, 1, 6, 2, 4, 1], [4, 3, 4, 1, 1, 5, 7, 1], [1, 5, 6, 7, 5, 6, 2, 4], [5, 3, 7, 3, 1, 3, 0, 2], [6, 2, 0, 7, 3, 7, 5, 7], [1, 2, 7, 1, 1, 6, 1, 1], [2, 2, 7, 1, 7, 1, 6, 7], [4, 7, 4, 0, 1, 5, 7, 0], [3, 4, 5, 5, 3, 6, 7, 5], [3, 2, 6, 1, 2, 3, 5, 2], [7, 0, 3, 4, 5, 1, 7, 2], [1, 6, 7, 0, 7, 5, 7, 4], [5, 6, 4, 0, 1, 4, 4, 0], [2, 1, 4, 5, 2, 1, 1, 6], [4, 2, 6, 3, 0, 6, 7, 7], [1, 0, 6, 5, 1, 0, 6, 6], [4, 3, 6, 2, 5, 0, 6, 1], [3, 7, 3, 7, 3, 5, 1, 7], [6, 2, 6, 7, 6, 2, 2, 4], [7, 5, 3, 4, 4, 3, 1, 7], [1, 1, 2, 5, 1, 6, 4, 0], [5, 1, 0, 0, 5, 5, 1, 7], [1, 0, 7, 6, 2, 4, 3, 4], [4, 6, 2, 3, 2, 6, 1, 2], [0, 2, 1, 6, 3, 4, 1, 4], [7, 0, 3, 2, 2, 1, 0, 5], [4, 5, 2, 7, 6, 3, 4, 2], [1, 7, 1, 7, 1, 4, 0, 1], [1, 2, 3, 5, 6, 6, 4, 3], [7, 2, 0, 7, 2, 5, 7, 5], [5, 3, 6, 6, 3, 7, 4, 1], [0, 4, 3, 3, 1, 5, 5, 3], [7, 4, 0, 2, 7, 1, 2, 3], [2, 5, 3, 6, 2, 5, 2, 3], [3, 0, 5, 3, 3, 0, 7, 4], [6, 4, 5, 5, 6, 2, 2, 4], [7, 7, 2, 4, 3, 3, 4, 6], [3, 0, 3, 3, 0, 0, 5, 1], [6, 7, 4, 2, 1, 1, 1, 7], [2, 6, 0, 4, 2, 0, 1, 3], [6, 6, 2, 5, 3, 3, 0, 2], [0, 3, 6, 4, 0, 4, 3, 6], [2, 3, 2, 3, 6, 3, 2, 5], [5, 0, 2, 2, 0, 4, 4, 7], [4, 6, 0, 4, 0, 6, 3, 7], [2, 6, 3, 5, 3, 3, 4, 4], [3, 0, 4, 3, 5, 1, 5, 3], [7, 7, 6, 7, 2, 1, 5, 0], [5, 7, 5, 5, 2, 5, 1, 7], [3, 4, 5, 5, 4, 7, 2, 0], [4, 7, 2, 2, 3, 2, 0, 6], [7, 7, 7, 6, 5, 5, 6, 3], [2, 5, 6, 3, 2, 6, 3, 6], [6, 3, 3, 5, 7, 0, 6, 4], [3, 0, 7, 4, 7, 5, 4, 0], [2, 3, 5, 2, 0, 1, 0, 5], [4, 7, 6, 0, 7, 3, 4, 3], [4, 7, 5, 6, 5, 3, 7, 5], [1, 0, 4, 4, 5, 6, 6, 5], [2, 0, 3, 2, 3, 6, 1, 6], [4, 4, 4, 0, 4, 7, 0, 1], [4, 0, 2, 7, 3, 2, 1, 2], [0, 0, 2, 6, 3, 7, 2, 7], [1, 7, 7, 2, 7, 6, 7, 7], [7, 7, 0, 3, 0, 1, 5, 5], [3, 6, 4, 4, 4, 7, 3, 6], [3, 4, 2, 0, 1, 6, 3, 7], [1, 3, 2, 3, 7, 1, 7, 7], [4, 0, 0, 5, 7, 3, 5, 0], [0, 2, 4, 2, 2, 4, 4, 3], [0, 4, 2, 1, 6, 3, 3, 7], [2, 1, 4, 7, 6, 3, 7, 5], [5, 3, 0, 1, 1, 5, 7, 6], [3, 3, 3, 3, 0, 3, 7, 2], [2, 1, 1, 4, 2, 7, 5, 0], [7, 3, 3, 7, 3, 0, 7, 6], [4, 3, 7, 7, 3, 2, 0, 2], [2, 6, 0, 5, 0, 0, 1, 7], [7, 2, 4, 1, 6, 6, 2, 0], [0, 4, 0, 5, 3, 7, 6, 2], [5, 7, 3, 7, 0, 6, 3, 7], [2, 4, 6, 7, 4, 5, 0, 2], [2, 2, 1, 7, 1, 2, 5, 2], [1, 3, 4, 1, 4, 7, 5, 4], [4, 1, 3, 7, 3, 0, 4, 5], [3, 7, 0, 2, 5, 7, 1, 7], [5, 5, 6, 5, 3, 7, 0, 1], [5, 4, 0, 2, 4, 3, 4, 0], [1, 6, 7, 3, 5, 3, 2, 7], [2, 6, 4, 3, 6, 0, 3, 1], [6, 4, 4, 7, 1, 6, 1, 5], [6, 1, 2, 4, 1, 0, 5, 3], [0, 1, 7, 1, 1, 4, 1, 1], [2, 7, 1, 7, 2, 1, 5, 0], [7, 1, 3, 2, 3, 0, 0, 2], [7, 0, 3, 6, 7, 1, 2, 1], [2, 5, 7, 6, 7, 3, 1, 6], [1, 5, 6, 1, 5, 2, 2, 5], [7, 4, 0, 4, 7, 1, 0, 7], [5, 0, 2, 6, 5, 3, 2, 5], [2, 1, 0, 7, 6, 4, 7, 1], [6, 3, 1, 4, 7, 2, 6, 2], [7, 1, 6, 7, 0, 3, 1, 2], [1, 3, 1, 2, 7, 7, 4, 7], [2, 2, 7, 0, 4, 1, 5, 6], [5, 3, 4, 0, 4, 4, 5, 2], [0, 5, 4, 2, 6, 0, 1, 3], [1, 1, 7, 0, 0, 4, 6, 1], [7, 1, 0, 4, 0, 3, 4, 6], [6, 7, 1, 4, 6, 4, 4, 0], [2, 6, 4, 2, 7, 0, 4, 7], [2, 6, 0, 0, 1, 2, 4, 5], [7, 6, 0, 0, 0, 1, 5, 3], [5, 1, 6, 5, 2, 0, 5, 3], [4, 3, 3, 2, 4, 0, 5, 1], [4, 7, 5, 6, 3, 7, 6, 4], [7, 6, 0, 4, 2, 4, 5, 2], [2, 0, 0, 7, 2, 2, 3, 5], [1, 1, 6, 3, 0, 0, 6, 5], [5, 0, 3, 2, 2, 2, 6, 5], [3, 7, 1, 7, 7, 6, 1, 7], [2, 3, 5, 5, 1, 0, 3, 0], [3, 4, 0, 5, 5, 3, 4, 1], [6, 5, 2, 2, 3, 1, 0, 3], [3, 7, 1, 1, 2, 2, 5, 3], [7, 2, 7, 7, 4, 4, 7, 6], [1, 3, 3, 6, 2, 1, 2, 1], [6, 7, 1, 7, 4, 0, 6, 5], [0, 3, 4, 6, 3, 3, 0, 3], [1, 7, 7, 0, 0, 2, 4, 0], [1, 7, 6, 2, 4, 2, 1, 5], [0, 6, 7, 4, 6, 6, 6, 3], [5, 0, 2, 2, 0, 0, 5, 4], [5, 7, 6, 4, 6, 1, 6, 0], [1, 3, 5, 5, 1, 5, 1, 2], [1, 7, 7, 6, 6, 3, 6, 0], [6, 2, 7, 1, 7, 3, 0, 3], [5, 1, 3, 7, 6, 2, 0, 4], [0, 2, 7, 5, 6, 5, 0, 0], [7, 0, 4, 0, 3, 3, 5, 1], [2, 3, 7, 1, 4, 4, 4, 2], [4, 5, 0, 3, 1, 4, 1, 3], [0, 0, 3, 2, 3, 7, 4, 5], [4, 4, 2, 2, 2, 4, 6, 1], [5, 2, 1, 7, 6, 4, 2, 6], [4, 2, 4, 5, 5, 7, 5, 6], [2, 2, 1, 4, 6, 4, 6, 5], [2, 2, 7, 0, 5, 6, 4, 3], [4, 6, 7, 5, 6, 0, 3, 4], [0, 5, 4, 1, 7, 0, 5, 7], [2, 4, 1, 4, 4, 2, 1, 3], [3, 2, 2, 2, 5, 5, 6, 0], [2, 4, 3, 6, 5, 4, 6, 0], [5, 2, 1, 1, 6, 3, 6, 6], [1, 1, 7, 5, 5, 3, 0, 3], [4, 3, 5, 1, 6, 3, 6, 0], [0, 6, 0, 7, 3, 3, 1, 7], [0, 2, 2, 4, 0, 2, 6, 5], [1, 2, 7, 0, 2, 6, 7, 2], [0, 2, 5, 7, 3, 1, 1, 2], [3, 3, 5, 3, 1, 5, 2, 1], [4, 4, 1, 3, 2, 0, 7, 4], [5, 4, 6, 0, 4, 3, 3, 3], [0, 6, 4, 6, 0, 1, 7, 0], [4, 4, 2, 7, 6, 6, 5, 6], [6, 0, 2, 1, 6, 1, 4, 7], [3, 3, 5, 5, 1, 4, 0, 7], [3, 0, 7, 6, 7, 1, 0, 7], [7, 3, 4, 5, 4, 1, 4, 3], [4, 2, 7, 1, 7, 1, 3, 1], [7, 4, 2, 1, 5, 1, 5, 2], [2, 6, 7, 7, 6, 1, 1, 4], [6, 2, 6, 2, 1, 4, 1, 1], [4, 2, 1, 4, 6, 5, 2, 2], [3, 4, 3, 3, 3, 5, 4, 5], [2, 6, 3, 1, 7, 4, 2, 1], [4, 6, 3, 7, 7, 7, 4, 5], [4, 3, 1, 7, 6, 4, 7, 0], [3, 4, 5, 6, 4, 2, 6, 4], [0, 2, 2, 5, 3, 3, 6, 3], [0, 1, 7, 0, 0, 6, 2, 5], [1, 1, 3, 4, 5, 5, 1, 7], [4, 7, 3, 1, 3, 6, 3, 3], [7, 3, 4, 2, 1, 4, 1, 6], [5, 3, 7, 3, 4, 5, 0, 6], [7, 5, 1, 1, 6, 6, 6, 3], [2, 1, 7, 3, 5, 1, 2, 6], [0, 6, 1, 3, 5, 4, 5, 7], [2, 6, 4, 6, 6, 1, 7, 0], [1, 3, 7, 6, 1, 4, 2, 0], [4, 3, 4, 4, 6, 7, 4, 3], [6, 3, 0, 1, 2, 2, 4, 0], [2, 6, 5, 7, 0, 3, 4, 2], [4, 3, 4, 7, 4, 2, 7, 1], [5, 6, 7, 4, 6, 6, 6, 6], [2, 4, 0, 4, 3, 5, 3, 1], [0, 0, 0, 4, 7, 7, 4, 3], [1, 7, 3, 2, 0, 2, 5, 4], [6, 7, 7, 1, 2, 2, 3, 2], [4, 2, 5, 3, 0, 3, 0, 3], [3, 4, 6, 1, 2, 1, 3, 2], [1, 7, 6, 0, 2, 2, 6, 7], [1, 4, 1, 5, 1, 2, 0, 5], [6, 2, 6, 1, 3, 2, 3, 2], [5, 6, 6, 4, 3, 3, 4, 1], [5, 0, 4, 1, 4, 3, 1, 0], [4, 5, 0, 1, 6, 0, 7, 4], [5, 5, 1, 1, 1, 0, 5, 6], [6, 0, 4, 6, 7, 7, 7, 3], [6, 1, 1, 5, 7, 5, 5, 2], [6, 1, 3, 7, 7, 5, 3, 0], [7, 7, 4, 5, 0, 0, 2, 3], [4, 5, 5, 0, 0, 7, 7, 7], [7, 2, 1, 0, 4, 3, 7, 7], [3, 5, 6, 7, 0, 4, 1, 7], [3, 3, 3, 2, 7, 2, 3, 4], [3, 7, 4, 3, 5, 6, 3, 0], [1, 7, 5, 5, 6, 4, 0, 7], [6, 2, 3, 3, 7, 5, 0, 7], [3, 3, 6, 7, 5, 4, 4, 1], [1, 0, 0, 3, 6, 0, 1, 5], [3, 7, 2, 6, 7, 5, 2, 3], [1, 6, 3, 4, 6, 0, 0, 7], [7, 6, 4, 6, 5, 5, 6, 6], [6, 0, 7, 3, 5, 3, 6, 5], [0, 7, 2, 0, 6, 6, 5, 1], [0, 3, 6, 6, 5, 5, 0, 0], [4, 7, 7, 5, 5, 2, 4, 7], [1, 7, 6, 5, 7, 6, 0, 1], [3, 4, 2, 1, 0, 2, 6, 3], [5, 3, 2, 3, 5, 6, 4, 7], [6, 3, 7, 5, 3, 1, 4, 5], [3, 2, 0, 2, 3, 4, 5, 3], [6, 6, 7, 6, 7, 6, 5, 6], [2, 0, 2, 1, 7, 6, 3, 6], [5, 1, 2, 7, 1, 5, 6, 1], [2, 3, 6, 4, 0, 6, 4, 1], [6, 6, 4, 5, 5, 7, 2, 0], [3, 2, 3, 3, 5, 2, 5, 0], [2, 2, 5, 2, 7, 1, 0, 4], [3, 3, 6, 1, 2, 7, 2, 0], [2, 4, 3, 3, 6, 5, 7, 0], [0, 5, 5, 1, 4, 2, 2, 4], [0, 2, 3, 5, 7, 3, 4, 7], [4, 5, 6, 7, 0, 5, 3, 5], [2, 0, 1, 6, 3, 3, 1, 3], [4, 0, 7, 4, 4, 2, 0, 4], [2, 5, 1, 0, 1, 1, 5, 0], [0, 7, 3, 3, 7, 1, 1, 1], [6, 7, 5, 7, 5, 3, 6, 5], [7, 4, 3, 5, 0, 2, 6, 7], [4, 4, 2, 2, 0, 7, 0, 3], [6, 0, 5, 1, 0, 3, 3, 1], [4, 0, 2, 0, 5, 6, 2, 1], [3, 0, 6, 7, 3, 5, 1, 1], [6, 2, 5, 5, 0, 1, 7, 4], [5, 4, 6, 7, 4, 6, 4, 7], [2, 0, 0, 3, 0, 4, 4, 4], [4, 5, 5, 4, 7, 6, 0, 3], [2, 1, 0, 5, 3, 3, 4, 0], [7, 5, 4, 0, 2, 3, 2, 1], [5, 4, 6, 6, 0, 0, 0, 1], [6, 4, 5, 0, 2, 1, 0, 1], [7, 6, 7, 4, 4, 1, 4, 1], [6, 0, 4, 6, 3, 2, 6, 5], [4, 0, 5, 2, 2, 3, 3, 3], [4, 4, 0, 5, 0, 2, 6, 5], [6, 2, 1, 4, 1, 4, 3, 0], [6, 7, 1, 4, 2, 7, 0, 1], [2, 7, 5, 1, 1, 4, 0, 1], [3, 3, 3, 4, 0, 0, 2, 7], [4, 6, 0, 2, 0, 5, 1, 3], [0, 4, 4, 1, 2, 5, 7, 4], [4, 6, 2, 4, 2, 3, 2, 3], [3, 7, 1, 7, 7, 4, 6, 5], [2, 3, 7, 7, 2, 6, 2, 4], [4, 1, 0, 7, 7, 2, 5, 4], [0, 2, 0, 3, 1, 4, 0, 3], [1, 2, 3, 1, 2, 2, 1, 0], [6, 0, 6, 0, 7, 7, 1, 5], [2, 5, 6, 4, 1, 7, 1, 2], [4, 0, 2, 5, 0, 1, 6, 6], [1, 1, 0, 5, 5, 3, 7, 1], [4, 7, 0, 4, 3, 2, 4, 7], [5, 3, 3, 1, 6, 4, 1, 1], [6, 4, 3, 7, 1, 3, 0, 5], [1, 7, 2, 3, 7, 4, 1, 6], [0, 7, 4, 0, 1, 7, 3, 6], [0, 2, 3, 0, 1, 3, 6, 2], [1, 1, 1, 3, 0, 0, 4, 2], [0, 5, 7, 0, 6, 1, 5, 4], [0, 4, 0, 1, 5, 1, 2, 3], [4, 4, 5, 1, 7, 0, 6, 4], [4, 5, 0, 0, 2, 4, 2, 4], [6, 2, 4, 6, 7, 3, 0, 2], [7, 5, 6, 1, 1, 2, 3, 4], [6, 0, 6, 1, 2, 5, 6, 6], [1, 0, 7, 3, 2, 7, 3, 1], [0, 4, 5, 6, 7, 5, 5, 1], [7, 0, 3, 6, 3, 0, 4, 2], [5, 1, 5, 5, 7, 6, 5, 6], [5, 0, 0, 7, 2, 0, 2, 6], [6, 1, 4, 0, 5, 7, 0, 3], [1, 7, 5, 6, 5, 4, 5, 2], [3, 5, 5, 0, 7, 3, 1, 1], [5, 7, 6, 6, 0, 5, 1, 5], [1, 0, 0, 2, 3, 3, 6, 3], [3, 4, 1, 0, 6, 2, 7, 2], [5, 5, 7, 5, 5, 3, 6, 5], [3, 2, 0, 1, 6, 3, 0, 2], [0, 0, 2, 1, 5, 3, 1, 5], [1, 5, 4, 1, 3, 1, 7, 2], [5, 0, 2, 3, 5, 3, 0, 7], [1, 6, 2, 6, 2, 4, 1, 0], [6, 0, 3, 3, 1, 5, 7, 0], [6, 4, 4, 4, 0, 0, 3, 2], [3, 2, 6, 1, 5, 1, 2, 3], [4, 2, 4, 5, 0, 6, 3, 4], [1, 4, 0, 5, 0, 3, 1, 6], [3, 2, 3, 7, 4, 6, 1, 4], [2, 3, 7, 0, 5, 7, 1, 6], [6, 2, 2, 5, 5, 0, 6, 1], [4, 4, 3, 1, 3, 0, 3, 0], [1, 2, 7, 5, 3, 7, 7, 6], [0, 3, 4, 3, 2, 1, 3, 6], [6, 4, 3, 1, 4, 5, 7, 0], [1, 1, 3, 7, 1, 6, 1, 3], [3, 6, 3, 3, 3, 7, 6, 4], [0, 6, 6, 6, 1, 6, 5, 5], [6, 4, 4, 3, 7, 7, 3, 1], [1, 0, 2, 2, 4, 4, 6, 6], [1, 4, 6, 3, 2, 7, 0, 7], [6, 1, 6, 4, 3, 0, 0, 1], [5, 0, 7, 3, 7, 5, 1, 3], [2, 6, 4, 4, 1, 5, 5, 6], [1, 0, 7, 0, 7, 6, 0, 7], [6, 6, 7, 3, 6, 5, 4, 5], [0, 7, 3, 4, 1, 0, 4, 0], [6, 0, 7, 6, 7, 0, 5, 0], [1, 7, 4, 5, 2, 6, 6, 4], [0, 3, 5, 6, 5, 5, 3, 2], [5, 7, 2, 3, 6, 3, 5, 3], [0, 0, 1, 3, 4, 3, 4, 3], [5, 4, 2, 2, 3, 4, 2, 5], [0, 7, 7, 4, 3, 4, 2, 0], [4, 2, 3, 6, 5, 3, 7, 0], [5, 5, 7, 2, 5, 1, 3, 6], [7, 6, 3, 5, 6, 3, 1, 1], [5, 6, 4, 2, 1, 1, 7, 5], [6, 1, 0, 2, 0, 6, 0, 5], [3, 3, 3, 3, 6, 2, 6, 2], [0, 7, 3, 3, 3, 1, 3, 4], [7, 7, 7, 6, 6, 3, 4, 5], [3, 7, 3, 1, 2, 6, 1, 5], [2, 2, 6, 5, 7, 6, 2, 1], [5, 4, 6, 6, 2, 5, 7, 2], [1, 4, 4, 5, 7, 1, 2, 7], [5, 0, 2, 3, 1, 4, 3, 7], [7, 5, 7, 7, 6, 1, 5, 2], [5, 7, 7, 6, 4, 1, 2, 3], [1, 5, 3, 2, 3, 7, 3, 4], [1, 6, 5, 4, 2, 0, 5, 0], [0, 7, 7, 3, 3, 0, 1, 1], [6, 7, 1, 7, 7, 0, 0, 3], [6, 3, 6, 2, 4, 1, 0, 2], [5, 6, 4, 7, 1, 7, 6, 6], [7, 6, 2, 7, 1, 7, 6, 5], [2, 2, 6, 6, 0, 0, 5, 1], [7, 7, 4, 3, 2, 5, 1, 3], [6, 0, 6, 2, 5, 3, 4, 4], [4, 3, 4, 6, 2, 5, 7, 0], [3, 4, 4, 0, 7, 3, 5, 3], [2, 3, 4, 5, 6, 1, 7, 2], [6, 4, 0, 0, 5, 4, 6, 6], [0, 4, 3, 6, 3, 6, 3, 4], [2, 4, 7, 2, 7, 2, 4, 3], [1, 0, 5, 4, 1, 6, 7, 0], [2, 4, 2, 5, 3, 1, 2, 0], [1, 2, 7, 7, 7, 1, 4, 5], [7, 1, 0, 5, 1, 6, 3, 2], [1, 3, 7, 4, 1, 0, 0, 0], [6, 4, 2, 6, 6, 3, 1, 7], [0, 0, 2, 4, 7, 5, 7, 5], [4, 6, 2, 5, 3, 3, 7, 2], [7, 4, 2, 2, 4, 3, 3, 4], [7, 0, 6, 0, 6, 1, 6, 5], [6, 5, 3, 7, 7, 7, 2, 3], [3, 7, 5, 3, 4, 4, 5, 3], [6, 2, 3, 6, 4, 2, 1, 6], [2, 2, 5, 7, 1, 0, 6, 2], [7, 6, 7, 0, 0, 4, 2, 5], [7, 3, 5, 6, 6, 5, 6, 0], [1, 6, 1, 5, 1, 5, 2, 4], [0, 3, 2, 5, 3, 6, 6, 6], [3, 5, 5, 1, 7, 1, 4, 0], [5, 2, 0, 2, 3, 0, 6, 5], [5, 3, 5, 5, 2, 0, 1, 7], [5, 6, 7, 1, 4, 2, 6, 3], [0, 6, 4, 1, 7, 5, 2, 3], [0, 6, 1, 3, 5, 3, 0, 5], [3, 0, 6, 1, 7, 5, 4, 0], [7, 2, 2, 1, 3, 6, 2, 5], [5, 2, 5, 0, 4, 4, 5, 5], [3, 2, 1, 7, 2, 7, 1, 2], [0, 0, 2, 4, 3, 2, 2, 5], [6, 0, 0, 0, 3, 6, 5, 6], [1, 2, 4, 6, 3, 4, 3, 5], [7, 2, 6, 6, 2, 3, 4, 2], [4, 7, 3, 2, 2, 2, 4, 0], [6, 1, 1, 2, 7, 3, 3, 3], [2, 7, 5, 0, 1, 2, 1, 4], [4, 7, 6, 6, 1, 7, 2, 2], [2, 6, 6, 3, 4, 4, 1, 0], [0, 0, 7, 6, 4, 4, 1, 4], [5, 4, 6, 1, 6, 0, 3, 2], [4, 1, 1, 1, 4, 4, 7, 1], [2, 3, 0, 2, 3, 5, 4, 7], [4, 6, 2, 5, 6, 7, 1, 1], [6, 1, 2, 2, 2, 4, 3, 2], [0, 3, 4, 0, 0, 6, 7, 1], [6, 6, 7, 6, 5, 5, 1, 3], [7, 5, 7, 2, 6, 0, 1, 6], [1, 4, 4, 1, 0, 0, 4, 0], [3, 4, 3, 1, 4, 2, 7, 7], [6, 3, 7, 4, 6, 0, 2, 5], [4, 7, 0, 1, 6, 5, 4, 2], [3, 2, 3, 5, 0, 7, 3, 6], [3, 3, 2, 5, 6, 4, 3, 4], [5, 1, 0, 7, 7, 5, 7, 3], [4, 1, 6, 6, 7, 1, 3, 0], [3, 4, 3, 0, 5, 2, 5, 5], [3, 2, 0, 4, 1, 1, 1, 7], [7, 0, 0, 0, 1, 7, 3, 4], [0, 0, 3, 4, 2, 2, 3, 4], [1, 0, 4, 4, 3, 2, 5, 2], [1, 4, 3, 4, 6, 4, 1, 4], [0, 1, 5, 0, 7, 6, 4, 5], [6, 6, 2, 1, 0, 7, 3, 6], [2, 0, 4, 0, 1, 7, 0, 7], [2, 4, 1, 4, 2, 4, 7, 1], [7, 4, 2, 3, 1, 0, 7, 5], [2, 4, 7, 3, 4, 1, 1, 5], [6, 4, 0, 3, 0, 6, 4, 7], [5, 0, 3, 7, 7, 0, 4, 4], [6, 7, 4, 2, 7, 6, 4, 0], [0, 7, 7, 6, 7, 1, 5, 4], [1, 2, 5, 4, 5, 6, 6, 4], [1, 2, 4, 5, 3, 7, 7, 3], [2, 2, 0, 2, 2, 3, 6, 3], [3, 0, 6, 7, 5, 1, 0, 0], [4, 3, 4, 1, 5, 5, 3, 6], [2, 1, 7, 2, 3, 7, 6, 3], [5, 3, 6, 1, 2, 0, 2, 4], [4, 6, 4, 4, 2, 0, 2, 4], [4, 1, 4, 2, 1, 7, 1, 7], [1, 0, 6, 7, 4, 6, 2, 4], [1, 7, 7, 5, 3, 0, 2, 7], [6, 4, 1, 4, 0, 5, 3, 2], [0, 3, 6, 6, 2, 6, 7, 6], [0, 0, 2, 6, 2, 2, 7, 6], [6, 7, 4, 5, 5, 7, 2, 1], [0, 1, 0, 4, 6, 3, 5, 3], [5, 2, 0, 3, 1, 0, 5, 5], [0, 6, 0, 7, 3, 1, 6, 6], [2, 3, 6, 1, 4, 4, 2, 6], [2, 3, 3, 1, 5, 0, 5, 6], [0, 7, 0, 5, 5, 3, 1, 7], [2, 2, 4, 7, 2, 1, 6, 2], [7, 5, 0, 1, 0, 4, 4, 6], [1, 2, 5, 6, 1, 6, 5, 5], [1, 3, 0, 4, 0, 6, 5, 6], [6, 3, 4, 0, 0, 5, 6, 3], [3, 1, 3, 5, 2, 2, 7, 0], [0, 1, 7, 1, 5, 7, 3, 4], [4, 2, 4, 6, 5, 5, 3, 4], [7, 4, 2, 4, 1, 1, 2, 7], [0, 2, 5, 5, 4, 0, 4, 2], [6, 4, 5, 5, 2, 5, 3, 7], [6, 6, 5, 1, 5, 1, 4, 2], [3, 4, 2, 3, 2, 1, 4, 1], [6, 5, 1, 7, 4, 5, 7, 1], [5, 3, 1, 4, 5, 0, 6, 1], [0, 6, 1, 3, 0, 4, 4, 5], [3, 5, 7, 6, 4, 7, 2, 1], [5, 2, 3, 1, 7, 2, 1, 4], [7, 5, 4, 4, 4, 6, 7, 7], [5, 6, 7, 6, 1, 3, 0, 5], [0, 0, 4, 0, 0, 5, 3, 6], [1, 7, 0, 4, 1, 3, 4, 6], [6, 5, 3, 5, 7, 6, 6, 7], [2, 6, 7, 3, 1, 0, 1, 1], [0, 3, 2, 4, 1, 2, 2, 5], [7, 3, 2, 0, 6, 4, 0, 0], [5, 2, 2, 5, 5, 6, 6, 6], [6, 3, 5, 1, 1, 1, 3, 7], [6, 3, 2, 5, 5, 6, 6, 6], [6, 7, 4, 4, 1, 3, 0, 4], [5, 4, 7, 0, 2, 2, 3, 2], [5, 4, 6, 2, 0, 4, 7, 6], [4, 4, 7, 0, 1, 0, 3, 2], [6, 3, 6, 5, 5, 5, 5, 3], [4, 0, 6, 0, 7, 3, 0, 3], [4, 7, 1, 3, 0, 5, 1, 1], [2, 1, 5, 3, 2, 1, 5, 6], [2, 6, 3, 7, 7, 0, 1, 1], [4, 0, 3, 2, 2, 4, 7, 3], [4, 5, 3, 2, 1, 1, 7, 7], [3, 3, 3, 1, 6, 5, 7, 1], [2, 1, 7, 0, 7, 7, 0, 7], [2, 5, 5, 3, 4, 3, 3, 6], [3, 6, 2, 2, 0, 2, 1, 0], [2, 6, 6, 6, 7, 0, 4, 5], [5, 7, 2, 4, 0, 2, 1, 3], [6, 6, 2, 0, 6, 5, 5, 0], [5, 0, 7, 2, 0, 5, 0, 5], [2, 5, 7, 2, 3, 6, 4, 6], [7, 3, 1, 1, 6, 7, 0, 1], [3, 7, 5, 6, 7, 4, 3, 2], [3, 1, 7, 5, 5, 4, 7, 2], [4, 7, 0, 0, 2, 0, 0, 2], [7, 5, 6, 4, 2, 6, 5, 4], [2, 3, 5, 7, 4, 5, 3, 6], [6, 2, 0, 7, 2, 7, 7, 6], [3, 0, 1, 4, 6, 1, 7, 5], [0, 7, 2, 0, 7, 1, 2, 0], [2, 4, 5, 4, 0, 2, 3, 4], [0, 4, 6, 1, 4, 6, 3, 5], [1, 0, 7, 4, 7, 5, 3, 4], [0, 0, 6, 6, 3, 0, 5, 1], [7, 7, 0, 1, 7, 6, 7, 2], [2, 7, 4, 2, 6, 7, 3, 3], [3, 1, 2, 1, 4, 6, 5, 4], [6, 4, 0, 0, 3, 1, 2, 2], [4, 5, 5, 2, 4, 2, 5, 1], [4, 5, 4, 1, 1, 5, 7, 2], [3, 5, 4, 7, 6, 5, 4, 7], [4, 7, 2, 7, 0, 1, 3, 5], [1, 4, 6, 6, 5, 6, 1, 0], [6, 2, 2, 1, 4, 3, 7, 7]]\n"
     ]
    }
   ],
   "source": [
    "# reinitialize our toolbox\n",
    "toolbox = base.Toolbox()\n",
    "toolbox.register(\"attr_int\", random.randint, 0, board_size-1)\n",
    "toolbox.register(\"individual\", tools.initRepeat, creator.Individual, toolbox.attr_int, n=board_size)\n",
    "#toolbox.individual()\n",
    "toolbox.register(\"population\", tools.initRepeat, list, toolbox.individual)\n",
    "pop = toolbox.population(n=1000)\n",
    "print(pop)"
   ]
  },
  {
   "cell_type": "code",
   "execution_count": 20,
   "metadata": {},
   "outputs": [],
   "source": [
    "def print_grid(board, board_size):\n",
    "    dashes = \"--------------------------------\"\n",
    "    dashes = dashes[:(board_size * 2)]\n",
    "    n = [0] * (board_size * board_size)\n",
    "    for i in range(len(board)):\n",
    "        n[board[i] + i * board_size] = 1\n",
    "    for i in range(board_size):\n",
    "        for j in range(board_size * board_size):\n",
    "            if j // board_size == i:\n",
    "                if n[j] == 1:\n",
    "                    print('X', end=\"|\")\n",
    "                else:\n",
    "                    print('-', end=\"|\")\n",
    "        print()\n",
    "        print(dashes)"
   ]
  },
  {
   "cell_type": "code",
   "execution_count": 21,
   "metadata": {
    "colab": {},
    "colab_type": "code",
    "id": "KYoqKKm8VOUg"
   },
   "outputs": [
    {
     "name": "stdout",
     "output_type": "stream",
     "text": [
      "-|-|-|-|X|-|-|-|\n",
      "----------------\n",
      "-|X|-|-|-|-|-|-|\n",
      "----------------\n",
      "-|-|-|X|-|-|-|-|\n",
      "----------------\n",
      "X|-|-|-|-|-|-|-|\n",
      "----------------\n",
      "-|-|-|X|-|-|-|-|\n",
      "----------------\n",
      "-|-|-|-|-|-|X|-|\n",
      "----------------\n",
      "-|X|-|-|-|-|-|-|\n",
      "----------------\n",
      "-|-|-|-|X|-|-|-|\n",
      "----------------\n"
     ]
    }
   ],
   "source": [
    "# verify grid\n",
    "print_grid(pop[0], board_size)"
   ]
  },
  {
   "cell_type": "markdown",
   "metadata": {
    "colab_type": "text",
    "id": "6_wZvS3mVOUh"
   },
   "source": [
    "### 10 pts:  Write code in the cell below to define the \"evaFitness\" function, which return the fitness of any given board\n",
    "\n",
    "- eval_fitness() returns the total number of distinct pairs of queens that attack each other.  \n",
    "\n",
    "- The following are some test cases you may use to verify the correctness of the eval_fitness() function:\n",
    "\n",
    " * evaFitness([0, 2, 6, 7, 7, 4, 1, 6]) should return (4,)\n",
    "\n",
    " * evaFitness([7, 5, 2, 4, 3, 1, 3, 5]) should return (6,)\n",
    "\n",
    " * evaFitness([3, 1, 6, 0, 5, 7, 2, 1]) should return (5,)\n",
    "\n",
    " * evaFitness([7, 3, 1, 4, 5, 1, 3, 5]) should return (6,)\n",
    "\n"
   ]
  },
  {
   "cell_type": "markdown",
   "metadata": {},
   "source": [
    "## compute_conflicts()\n",
    "Computes the number of conflicts in a given board using a frequency list representation of the board in linear time row a row-index representation. Based on following method described in the following page: https://towardsdatascience.com/computing-number-of-conflicting-pairs-in-a-n-queen-board-in-linear-time-and-space-complexity-e9554c0e0645"
   ]
  },
  {
   "cell_type": "code",
   "execution_count": 22,
   "metadata": {},
   "outputs": [],
   "source": [
    "def compute_conflicts(board):\n",
    "    n = len(board)\n",
    "    \n",
    "    # initialize row and diagonal frequency tables\n",
    "    row = [0] * n\n",
    "    diag_right = [0] * (2 * n)\n",
    "    diag_left = [0] * (2 * n)\n",
    "    \n",
    "    # build frequency table\n",
    "    for i in range(n):\n",
    "        row[board[i]] += 1\n",
    "        diag_right[board[i] + i] += 1\n",
    "        diag_left[n - board[i] + i] += 1\n",
    "    \n",
    "    # compute complete graph size and add it to conflicts\n",
    "    conflicts = 0\n",
    "    for i in range(2 * n):\n",
    "        if i < n:\n",
    "            conflicts += (row[i] * (row[i] - 1)) / 2\n",
    "        conflicts += (diag_right[i] * (diag_right[i] - 1)) / 2\n",
    "        conflicts += (diag_left[i] * (diag_left[i] - 1)) / 2\n",
    "    return int(conflicts) "
   ]
  },
  {
   "cell_type": "code",
   "execution_count": 23,
   "metadata": {
    "colab": {},
    "colab_type": "code",
    "id": "bk1Rn57oVOUi"
   },
   "outputs": [],
   "source": [
    "#fitness function\n",
    "def eval_fitness(individual):\n",
    "    conflict = compute_conflicts(individual)\n",
    "    return (conflict, )"
   ]
  },
  {
   "cell_type": "markdown",
   "metadata": {
    "colab_type": "text",
    "id": "MLkixA1YVOUj"
   },
   "source": [
    "### 5 pts:  Write code in the cell below to register the evaluation function to your toolbox object."
   ]
  },
  {
   "cell_type": "code",
   "execution_count": 24,
   "metadata": {
    "colab": {},
    "colab_type": "code",
    "id": "TMwldAeuVOUk"
   },
   "outputs": [],
   "source": [
    "toolbox.register(\"evaluate\", eval_fitness)\n",
    "toolbox.register(\"mate\", tools.cxTwoPoint)\n",
    "toolbox.register(\"mutate\", tools.mutUniformInt, low = 0, up = 7, indpb=0.1)\n",
    "toolbox.register(\"select\", tools.selTournament, tournsize=3)"
   ]
  },
  {
   "cell_type": "code",
   "execution_count": 25,
   "metadata": {
    "colab": {},
    "colab_type": "code",
    "id": "O-xOKMI4VOUl"
   },
   "outputs": [],
   "source": [
    "# initialize statistics object\n",
    "stats = tools.Statistics(key=lambda ind: ind.fitness.values)\n",
    "stats.register(\"avg\", np.mean)\n",
    "stats.register(\"min\", np.min)"
   ]
  },
  {
   "cell_type": "markdown",
   "metadata": {
    "colab_type": "text",
    "id": "pyRth-sHVOUq"
   },
   "source": [
    "### 10 pts:  Write code in the cell below to create generation one, the hall of fame, and to launch eaSimple()."
   ]
  },
  {
   "cell_type": "code",
   "execution_count": 26,
   "metadata": {
    "colab": {},
    "colab_type": "code",
    "id": "3aJJcDUVVOUq"
   },
   "outputs": [
    {
     "name": "stdout",
     "output_type": "stream",
     "text": [
      "gen\tnevals\tavg  \tmin\n",
      "0  \t1000  \t7.884\t1  \n",
      "1  \t579   \t6.428\t1  \n",
      "2  \t600   \t5.561\t1  \n",
      "3  \t569   \t4.903\t0  \n",
      "4  \t585   \t4.544\t0  \n",
      "5  \t567   \t4.122\t0  \n",
      "6  \t613   \t3.868\t0  \n",
      "7  \t621   \t3.687\t0  \n",
      "8  \t635   \t3.371\t0  \n",
      "9  \t587   \t3.047\t0  \n",
      "10 \t621   \t2.602\t0  \n",
      "11 \t582   \t2.088\t0  \n",
      "12 \t623   \t1.688\t0  \n",
      "13 \t570   \t1.235\t0  \n",
      "14 \t596   \t0.711\t0  \n",
      "15 \t598   \t0.441\t0  \n",
      "16 \t637   \t0.405\t0  \n",
      "17 \t582   \t0.336\t0  \n",
      "18 \t629   \t0.334\t0  \n",
      "19 \t570   \t0.269\t0  \n",
      "20 \t616   \t0.268\t0  \n",
      "21 \t606   \t0.27 \t0  \n",
      "22 \t616   \t0.242\t0  \n",
      "23 \t604   \t0.34 \t0  \n",
      "24 \t614   \t0.308\t0  \n",
      "25 \t597   \t0.276\t0  \n",
      "26 \t593   \t0.268\t0  \n",
      "27 \t619   \t0.296\t0  \n",
      "28 \t611   \t0.28 \t0  \n",
      "29 \t604   \t0.281\t0  \n",
      "30 \t578   \t0.276\t0  \n",
      "31 \t580   \t0.234\t0  \n",
      "32 \t546   \t0.263\t0  \n",
      "33 \t600   \t0.312\t0  \n",
      "34 \t617   \t0.297\t0  \n",
      "35 \t622   \t0.334\t0  \n",
      "36 \t587   \t0.334\t0  \n",
      "37 \t569   \t0.306\t0  \n",
      "38 \t569   \t0.325\t0  \n",
      "39 \t611   \t0.348\t0  \n",
      "40 \t623   \t0.278\t0  \n",
      "41 \t630   \t0.266\t0  \n",
      "42 \t587   \t0.31 \t0  \n",
      "43 \t610   \t0.283\t0  \n",
      "44 \t594   \t0.33 \t0  \n",
      "45 \t572   \t0.321\t0  \n",
      "46 \t623   \t0.321\t0  \n",
      "47 \t607   \t0.264\t0  \n",
      "48 \t596   \t0.272\t0  \n",
      "49 \t591   \t0.281\t0  \n",
      "50 \t605   \t0.279\t0  \n",
      "51 \t595   \t0.315\t0  \n",
      "52 \t582   \t0.298\t0  \n",
      "53 \t583   \t0.257\t0  \n",
      "54 \t577   \t0.313\t0  \n",
      "55 \t607   \t0.366\t0  \n",
      "56 \t619   \t0.273\t0  \n",
      "57 \t605   \t0.311\t0  \n",
      "58 \t569   \t0.249\t0  \n",
      "59 \t585   \t0.252\t0  \n",
      "60 \t585   \t0.253\t0  \n",
      "61 \t559   \t0.266\t0  \n",
      "62 \t625   \t0.247\t0  \n",
      "63 \t637   \t0.338\t0  \n",
      "64 \t618   \t0.336\t0  \n",
      "65 \t578   \t0.298\t0  \n",
      "66 \t590   \t0.272\t0  \n",
      "67 \t610   \t0.285\t0  \n",
      "68 \t602   \t0.299\t0  \n",
      "69 \t580   \t0.26 \t0  \n",
      "70 \t624   \t0.305\t0  \n",
      "71 \t612   \t0.272\t0  \n",
      "72 \t592   \t0.34 \t0  \n",
      "73 \t581   \t0.249\t0  \n",
      "74 \t609   \t0.317\t0  \n",
      "75 \t622   \t0.332\t0  \n",
      "76 \t615   \t0.286\t0  \n",
      "77 \t569   \t0.216\t0  \n",
      "78 \t582   \t0.282\t0  \n",
      "79 \t600   \t0.235\t0  \n",
      "80 \t598   \t0.272\t0  \n",
      "81 \t600   \t0.35 \t0  \n",
      "82 \t582   \t0.322\t0  \n",
      "83 \t618   \t0.302\t0  \n",
      "84 \t599   \t0.306\t0  \n",
      "85 \t645   \t0.297\t0  \n",
      "86 \t585   \t0.225\t0  \n",
      "87 \t611   \t0.276\t0  \n",
      "88 \t575   \t0.286\t0  \n",
      "89 \t598   \t0.289\t0  \n",
      "90 \t578   \t0.318\t0  \n",
      "91 \t576   \t0.299\t0  \n",
      "92 \t618   \t0.3  \t0  \n",
      "93 \t609   \t0.308\t0  \n",
      "94 \t645   \t0.319\t0  \n",
      "95 \t605   \t0.311\t0  \n",
      "96 \t624   \t0.342\t0  \n",
      "97 \t594   \t0.287\t0  \n",
      "98 \t608   \t0.354\t0  \n",
      "99 \t580   \t0.261\t0  \n",
      "100\t581   \t0.267\t0  \n"
     ]
    }
   ],
   "source": [
    "pop = toolbox.population(n=1000)\n",
    "hof = tools.HallOfFame(maxsize=10)\n",
    "pop, log = algorithms.eaSimple(\n",
    "    pop, \n",
    "    toolbox, \n",
    "    cxpb=0.5, \n",
    "    mutpb=0.2, \n",
    "    ngen=100, \n",
    "    stats=stats, \n",
    "    halloffame=hof, \n",
    "    verbose=True)"
   ]
  },
  {
   "cell_type": "markdown",
   "metadata": {
    "colab_type": "text",
    "id": "xrJfr0ePVOUs"
   },
   "source": [
    "### 5 pts:  Plot the \"avg\" and \"min\" for each generation"
   ]
  },
  {
   "cell_type": "code",
   "execution_count": 27,
   "metadata": {
    "colab": {},
    "colab_type": "code",
    "id": "LJyAUq4WVOUs"
   },
   "outputs": [
    {
     "data": {
      "image/png": "[encoded data removed]",
      "text/plain": [
       "<Figure size 432x288 with 1 Axes>"
      ]
     },
     "metadata": {
      "needs_background": "light"
     },
     "output_type": "display_data"
    }
   ],
   "source": [
    "# Plot the \"avg\" and \"min\" for each generation\n",
    "gen, avg, min_ = log.select(\"gen\", \"avg\", \"min\")\n",
    "plt.title(\"Row-based-index\")\n",
    "plt.plot(gen, avg, label=\"average\")\n",
    "plt.plot(gen, min_, label=\"minimum\")\n",
    "plt.xlabel(\"Generation\")\n",
    "plt.ylabel(\"Fitness\")\n",
    "plt.legend(loc=\"upper right\")\n",
    "plt.show()"
   ]
  },
  {
   "cell_type": "markdown",
   "metadata": {
    "colab_type": "text",
    "id": "ry6HXqIMVOUv"
   },
   "source": [
    "### 5 pts:  Print out the best individual and its fitness value. Show the best individual as chessboard."
   ]
  },
  {
   "cell_type": "code",
   "execution_count": 28,
   "metadata": {
    "colab": {},
    "colab_type": "code",
    "id": "PkC9uOqCVOUv"
   },
   "outputs": [
    {
     "name": "stdout",
     "output_type": "stream",
     "text": [
      "Best individual is: [5, 2, 0, 7, 3, 1, 6, 4]\n",
      "Number of conflicts: 0\n",
      "-|-|-|-|-|X|-|-|\n",
      "----------------\n",
      "-|-|X|-|-|-|-|-|\n",
      "----------------\n",
      "X|-|-|-|-|-|-|-|\n",
      "----------------\n",
      "-|-|-|-|-|-|-|X|\n",
      "----------------\n",
      "-|-|-|X|-|-|-|-|\n",
      "----------------\n",
      "-|X|-|-|-|-|-|-|\n",
      "----------------\n",
      "-|-|-|-|-|-|X|-|\n",
      "----------------\n",
      "-|-|-|-|X|-|-|-|\n",
      "----------------\n"
     ]
    }
   ],
   "source": [
    "best_ind = tools.selBest(pop, k=1)[0]\n",
    "\n",
    "print('Best individual is:', best_ind)\n",
    "print('Number of conflicts:', compute_conflicts(best_ind))\n",
    "print_grid(best_ind, board_size)\n"
   ]
  },
  {
   "cell_type": "markdown",
   "metadata": {
    "colab_type": "text",
    "id": "qhba2jQ1VOUw"
   },
   "source": [
    "### Reflection:  Which board representaion is better in terms of ease of coding and final solution quality?  Try different parameter values for mutation and crossover and vary the number of generations and the population size.  Write your findings in the report.        "
   ]
  },
  {
   "cell_type": "markdown",
   "metadata": {},
   "source": [
    "We believe that row-index representation exceeds position-index representation in performance because we are able to put a constraint on one of the fundamental ways queens may attack each other, reducing our search space by a substantial amount. However, programming an evaluation function for this representation required viewing each queen's conflict as a complete graph, which is a much more complex algorithm than the one written for positional-indexing in order to compute collisions in linear time. In other words, row-index representation is more complex to program, but it also yields higher quality results."
   ]
  }
 ],
 "metadata": {
  "colab": {
   "collapsed_sections": [],
   "name": "DEAP n queens_on-canvas.ipynb",
   "provenance": [],
   "toc_visible": true,
   "version": "0.3.2"
  },
  "kernelspec": {
   "display_name": "Python 3",
   "language": "python",
   "name": "python3"
  },
  "language_info": {
   "codemirror_mode": {
    "name": "ipython",
    "version": 3
   },
   "file_extension": ".py",
   "mimetype": "text/x-python",
   "name": "python",
   "nbconvert_exporter": "python",
   "pygments_lexer": "ipython3",
   "version": "3.7.6"
  }
 },
 "nbformat": 4,
 "nbformat_minor": 2
}
